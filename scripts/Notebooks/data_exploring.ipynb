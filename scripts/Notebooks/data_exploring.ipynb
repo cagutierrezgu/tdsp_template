{
  "cells": [
    {
      "cell_type": "markdown",
      "metadata": {
        "id": "dWB1Sstj3e8L"
      },
      "source": [
        "# Preprocesamiento y exploración de los datos"
      ]
    },
    {
      "cell_type": "markdown",
      "metadata": {
        "id": "HMmBqBS63exz"
      },
      "source": [
        "Una vez cargados los datos en el ambiente de Python (archivo data_loading.py o data_loading.ipynb) se realizará el debido preprocesamiento de estos junto con una primera exploración de los mismos para encontrar algunas de características que resulten útiles para la posterior implementación de modelos de aprendizaje automático.\n",
        "\n",
        "En primer lugar, se importan las librerías necesarias para este script, así como el archivo .py de la adquisición de los datos"
      ]
    },
    {
      "cell_type": "code",
      "execution_count": 2,
      "metadata": {
        "colab": {
          "base_uri": "https://localhost:8080/"
        },
        "id": "g7I1iMC71esn",
        "outputId": "99e6f389-b265-4434-eef4-85f30aafe246"
      },
      "outputs": [
        {
          "name": "stderr",
          "output_type": "stream",
          "text": [
            "Downloading...\n",
            "From: https://drive.google.com/uc?export=download&id=1oOgj9f5UTITTDzMehEIIzNz2aoR2IlgZ\n",
            "To: /content/stars.csv\n",
            "100%|██████████| 8.48k/8.48k [00:00<00:00, 7.42MB/s]\n"
          ]
        }
      ],
      "source": [
        "import numpy as np\n",
        "import pandas as pd\n",
        "import seaborn as sns\n",
        "import matplotlib.pyplot as plt\n",
        "import sklearn\n",
        "import data_loading as data"
      ]
    },
    {
      "cell_type": "markdown",
      "metadata": {
        "id": "N9e57SJSnRz7"
      },
      "source": [
        "A continuación se usa la función *dataload* definida en el script de carga de datos para obtener los datos a partir del link que contiene el archivo"
      ]
    },
    {
      "cell_type": "code",
      "execution_count": 3,
      "metadata": {
        "colab": {
          "base_uri": "https://localhost:8080/"
        },
        "id": "2k9iXVxunRz7",
        "outputId": "d0d6652a-47ef-4e16-9cf0-7e06d4b9fc19"
      },
      "outputs": [
        {
          "name": "stderr",
          "output_type": "stream",
          "text": [
            "Downloading...\n",
            "From: https://drive.google.com/uc?export=download&id=1oOgj9f5UTITTDzMehEIIzNz2aoR2IlgZ\n",
            "To: /content/stars.csv\n",
            "100%|██████████| 8.48k/8.48k [00:00<00:00, 7.02MB/s]\n"
          ]
        }
      ],
      "source": [
        "link = 'https://drive.google.com/uc?export=download&id=1oOgj9f5UTITTDzMehEIIzNz2aoR2IlgZ'\n",
        "name = 'stars.csv'\n",
        "df_stars = data.dataload(link, name)"
      ]
    },
    {
      "cell_type": "markdown",
      "metadata": {
        "id": "HRjPs887nRz8"
      },
      "source": [
        "Verificamos que se hizo una correcta carga de los datos mostrando algunos datos del dataframe"
      ]
    },
    {
      "cell_type": "code",
      "execution_count": 4,
      "metadata": {
        "colab": {
          "base_uri": "https://localhost:8080/",
          "height": 206
        },
        "id": "D14YqE9ORTrT",
        "outputId": "bb2384e1-45e1-42e1-c0c7-3b5d6efaed2e"
      },
      "outputs": [
        {
          "data": {
            "text/html": [
              "\n",
              "  <div id=\"df-457ff216-5617-4644-b648-69aea80a4d9d\">\n",
              "    <div class=\"colab-df-container\">\n",
              "      <div>\n",
              "<style scoped>\n",
              "    .dataframe tbody tr th:only-of-type {\n",
              "        vertical-align: middle;\n",
              "    }\n",
              "\n",
              "    .dataframe tbody tr th {\n",
              "        vertical-align: top;\n",
              "    }\n",
              "\n",
              "    .dataframe thead th {\n",
              "        text-align: right;\n",
              "    }\n",
              "</style>\n",
              "<table border=\"1\" class=\"dataframe\">\n",
              "  <thead>\n",
              "    <tr style=\"text-align: right;\">\n",
              "      <th></th>\n",
              "      <th>Temperature (K)</th>\n",
              "      <th>Luminosity(L/Lo)</th>\n",
              "      <th>Radius(R/Ro)</th>\n",
              "      <th>Absolute magnitude(Mv)</th>\n",
              "      <th>Star type</th>\n",
              "      <th>Star color</th>\n",
              "      <th>Spectral Class</th>\n",
              "    </tr>\n",
              "  </thead>\n",
              "  <tbody>\n",
              "    <tr>\n",
              "      <th>0</th>\n",
              "      <td>3068</td>\n",
              "      <td>0.002400</td>\n",
              "      <td>0.1700</td>\n",
              "      <td>16.12</td>\n",
              "      <td>0</td>\n",
              "      <td>Red</td>\n",
              "      <td>M</td>\n",
              "    </tr>\n",
              "    <tr>\n",
              "      <th>1</th>\n",
              "      <td>3042</td>\n",
              "      <td>0.000500</td>\n",
              "      <td>0.1542</td>\n",
              "      <td>16.60</td>\n",
              "      <td>0</td>\n",
              "      <td>Red</td>\n",
              "      <td>M</td>\n",
              "    </tr>\n",
              "    <tr>\n",
              "      <th>2</th>\n",
              "      <td>2600</td>\n",
              "      <td>0.000300</td>\n",
              "      <td>0.1020</td>\n",
              "      <td>18.70</td>\n",
              "      <td>0</td>\n",
              "      <td>Red</td>\n",
              "      <td>M</td>\n",
              "    </tr>\n",
              "    <tr>\n",
              "      <th>3</th>\n",
              "      <td>2800</td>\n",
              "      <td>0.000200</td>\n",
              "      <td>0.1600</td>\n",
              "      <td>16.65</td>\n",
              "      <td>0</td>\n",
              "      <td>Red</td>\n",
              "      <td>M</td>\n",
              "    </tr>\n",
              "    <tr>\n",
              "      <th>4</th>\n",
              "      <td>1939</td>\n",
              "      <td>0.000138</td>\n",
              "      <td>0.1030</td>\n",
              "      <td>20.06</td>\n",
              "      <td>0</td>\n",
              "      <td>Red</td>\n",
              "      <td>M</td>\n",
              "    </tr>\n",
              "  </tbody>\n",
              "</table>\n",
              "</div>\n",
              "      <button class=\"colab-df-convert\" onclick=\"convertToInteractive('df-457ff216-5617-4644-b648-69aea80a4d9d')\"\n",
              "              title=\"Convert this dataframe to an interactive table.\"\n",
              "              style=\"display:none;\">\n",
              "        \n",
              "  <svg xmlns=\"http://www.w3.org/2000/svg\" height=\"24px\"viewBox=\"0 0 24 24\"\n",
              "       width=\"24px\">\n",
              "    <path d=\"M0 0h24v24H0V0z\" fill=\"none\"/>\n",
              "    <path d=\"M18.56 5.44l.94 2.06.94-2.06 2.06-.94-2.06-.94-.94-2.06-.94 2.06-2.06.94zm-11 1L8.5 8.5l.94-2.06 2.06-.94-2.06-.94L8.5 2.5l-.94 2.06-2.06.94zm10 10l.94 2.06.94-2.06 2.06-.94-2.06-.94-.94-2.06-.94 2.06-2.06.94z\"/><path d=\"M17.41 7.96l-1.37-1.37c-.4-.4-.92-.59-1.43-.59-.52 0-1.04.2-1.43.59L10.3 9.45l-7.72 7.72c-.78.78-.78 2.05 0 2.83L4 21.41c.39.39.9.59 1.41.59.51 0 1.02-.2 1.41-.59l7.78-7.78 2.81-2.81c.8-.78.8-2.07 0-2.86zM5.41 20L4 18.59l7.72-7.72 1.47 1.35L5.41 20z\"/>\n",
              "  </svg>\n",
              "      </button>\n",
              "      \n",
              "  <style>\n",
              "    .colab-df-container {\n",
              "      display:flex;\n",
              "      flex-wrap:wrap;\n",
              "      gap: 12px;\n",
              "    }\n",
              "\n",
              "    .colab-df-convert {\n",
              "      background-color: #E8F0FE;\n",
              "      border: none;\n",
              "      border-radius: 50%;\n",
              "      cursor: pointer;\n",
              "      display: none;\n",
              "      fill: #1967D2;\n",
              "      height: 32px;\n",
              "      padding: 0 0 0 0;\n",
              "      width: 32px;\n",
              "    }\n",
              "\n",
              "    .colab-df-convert:hover {\n",
              "      background-color: #E2EBFA;\n",
              "      box-shadow: 0px 1px 2px rgba(60, 64, 67, 0.3), 0px 1px 3px 1px rgba(60, 64, 67, 0.15);\n",
              "      fill: #174EA6;\n",
              "    }\n",
              "\n",
              "    [theme=dark] .colab-df-convert {\n",
              "      background-color: #3B4455;\n",
              "      fill: #D2E3FC;\n",
              "    }\n",
              "\n",
              "    [theme=dark] .colab-df-convert:hover {\n",
              "      background-color: #434B5C;\n",
              "      box-shadow: 0px 1px 3px 1px rgba(0, 0, 0, 0.15);\n",
              "      filter: drop-shadow(0px 1px 2px rgba(0, 0, 0, 0.3));\n",
              "      fill: #FFFFFF;\n",
              "    }\n",
              "  </style>\n",
              "\n",
              "      <script>\n",
              "        const buttonEl =\n",
              "          document.querySelector('#df-457ff216-5617-4644-b648-69aea80a4d9d button.colab-df-convert');\n",
              "        buttonEl.style.display =\n",
              "          google.colab.kernel.accessAllowed ? 'block' : 'none';\n",
              "\n",
              "        async function convertToInteractive(key) {\n",
              "          const element = document.querySelector('#df-457ff216-5617-4644-b648-69aea80a4d9d');\n",
              "          const dataTable =\n",
              "            await google.colab.kernel.invokeFunction('convertToInteractive',\n",
              "                                                     [key], {});\n",
              "          if (!dataTable) return;\n",
              "\n",
              "          const docLinkHtml = 'Like what you see? Visit the ' +\n",
              "            '<a target=\"_blank\" href=https://colab.research.google.com/notebooks/data_table.ipynb>data table notebook</a>'\n",
              "            + ' to learn more about interactive tables.';\n",
              "          element.innerHTML = '';\n",
              "          dataTable['output_type'] = 'display_data';\n",
              "          await google.colab.output.renderOutput(dataTable, element);\n",
              "          const docLink = document.createElement('div');\n",
              "          docLink.innerHTML = docLinkHtml;\n",
              "          element.appendChild(docLink);\n",
              "        }\n",
              "      </script>\n",
              "    </div>\n",
              "  </div>\n",
              "  "
            ],
            "text/plain": [
              "   Temperature (K)  Luminosity(L/Lo)  Radius(R/Ro)  Absolute magnitude(Mv)  \\\n",
              "0             3068          0.002400        0.1700                   16.12   \n",
              "1             3042          0.000500        0.1542                   16.60   \n",
              "2             2600          0.000300        0.1020                   18.70   \n",
              "3             2800          0.000200        0.1600                   16.65   \n",
              "4             1939          0.000138        0.1030                   20.06   \n",
              "\n",
              "   Star type Star color Spectral Class  \n",
              "0          0        Red              M  \n",
              "1          0        Red              M  \n",
              "2          0        Red              M  \n",
              "3          0        Red              M  \n",
              "4          0        Red              M  "
            ]
          },
          "execution_count": 4,
          "metadata": {},
          "output_type": "execute_result"
        }
      ],
      "source": [
        "df_stars.head(5)"
      ]
    },
    {
      "cell_type": "markdown",
      "metadata": {
        "id": "nE0tGpv2nRz8"
      },
      "source": [
        "Antes de continuar, se guardan en un diccionario las etiquetas para cada tipo de estrella, las variables a predecir en los modelos posteriores"
      ]
    },
    {
      "cell_type": "code",
      "execution_count": 5,
      "metadata": {
        "id": "MaZ3OX9dnRz9"
      },
      "outputs": [],
      "source": [
        "Nombres = {0:'Brown Dwarf',1:'Red Dwarf',2:'White Dwarf',3:'Main Sequence',4:'Supergiant',5:'Hypergiant'}"
      ]
    },
    {
      "cell_type": "markdown",
      "metadata": {
        "id": "04oNgU-3nRz-"
      },
      "source": [
        "Una de las primeras acciones a realizar con los datos es conocer la naturaleza de estos, para lo que vemos el tipo de variable de cada columna y la posible existencia de datos faltantes"
      ]
    },
    {
      "cell_type": "code",
      "execution_count": 6,
      "metadata": {
        "colab": {
          "base_uri": "https://localhost:8080/"
        },
        "id": "91KM67wl2nHl",
        "outputId": "ed4adea6-4216-42d3-db4d-58b63c35f55a"
      },
      "outputs": [
        {
          "data": {
            "text/plain": [
              "Temperature (K)             int64\n",
              "Luminosity(L/Lo)          float64\n",
              "Radius(R/Ro)              float64\n",
              "Absolute magnitude(Mv)    float64\n",
              "Star type                   int64\n",
              "Star color                 object\n",
              "Spectral Class             object\n",
              "dtype: object"
            ]
          },
          "execution_count": 6,
          "metadata": {},
          "output_type": "execute_result"
        }
      ],
      "source": [
        "df_stars.dtypes"
      ]
    },
    {
      "cell_type": "code",
      "execution_count": 7,
      "metadata": {
        "colab": {
          "base_uri": "https://localhost:8080/"
        },
        "id": "BO9x2iz5ReUX",
        "outputId": "b7adeff9-a8c6-40ba-bd60-bd46a7d1d9bb"
      },
      "outputs": [
        {
          "data": {
            "text/plain": [
              "Temperature (K)           0\n",
              "Luminosity(L/Lo)          0\n",
              "Radius(R/Ro)              0\n",
              "Absolute magnitude(Mv)    0\n",
              "Star type                 0\n",
              "Star color                0\n",
              "Spectral Class            0\n",
              "dtype: int64"
            ]
          },
          "execution_count": 7,
          "metadata": {},
          "output_type": "execute_result"
        }
      ],
      "source": [
        "df_stars.isna().sum()"
      ]
    },
    {
      "cell_type": "markdown",
      "metadata": {
        "id": "ePjrTMgXnRz_"
      },
      "source": [
        "Lo anterior deja ver que no existen datos faltantes, por lo que no habrá necesidad de eliminación de filas o columnas de datos ni imputación de estos. Por otro lado, existen 2 variables tipo 'object' que como se verá más adelante corresponden a variables categóricas.\n",
        "\n",
        "Continuando con características generales del dataframe, observamos algunas cantidades estadísticas de cada columna"
      ]
    },
    {
      "cell_type": "code",
      "execution_count": 8,
      "metadata": {
        "colab": {
          "base_uri": "https://localhost:8080/",
          "height": 300
        },
        "id": "16ZchHSS2m_6",
        "outputId": "fcf84901-66f2-4cb9-e0ec-50f864b3e660"
      },
      "outputs": [
        {
          "data": {
            "text/html": [
              "\n",
              "  <div id=\"df-55e7d10a-0c9b-48b0-917e-d972369690cb\">\n",
              "    <div class=\"colab-df-container\">\n",
              "      <div>\n",
              "<style scoped>\n",
              "    .dataframe tbody tr th:only-of-type {\n",
              "        vertical-align: middle;\n",
              "    }\n",
              "\n",
              "    .dataframe tbody tr th {\n",
              "        vertical-align: top;\n",
              "    }\n",
              "\n",
              "    .dataframe thead th {\n",
              "        text-align: right;\n",
              "    }\n",
              "</style>\n",
              "<table border=\"1\" class=\"dataframe\">\n",
              "  <thead>\n",
              "    <tr style=\"text-align: right;\">\n",
              "      <th></th>\n",
              "      <th>Temperature (K)</th>\n",
              "      <th>Luminosity(L/Lo)</th>\n",
              "      <th>Radius(R/Ro)</th>\n",
              "      <th>Absolute magnitude(Mv)</th>\n",
              "      <th>Star type</th>\n",
              "    </tr>\n",
              "  </thead>\n",
              "  <tbody>\n",
              "    <tr>\n",
              "      <th>count</th>\n",
              "      <td>240.000000</td>\n",
              "      <td>240.000000</td>\n",
              "      <td>240.000000</td>\n",
              "      <td>240.000000</td>\n",
              "      <td>240.000000</td>\n",
              "    </tr>\n",
              "    <tr>\n",
              "      <th>mean</th>\n",
              "      <td>10497.462500</td>\n",
              "      <td>107188.361635</td>\n",
              "      <td>237.157781</td>\n",
              "      <td>4.382396</td>\n",
              "      <td>2.500000</td>\n",
              "    </tr>\n",
              "    <tr>\n",
              "      <th>std</th>\n",
              "      <td>9552.425037</td>\n",
              "      <td>179432.244940</td>\n",
              "      <td>517.155763</td>\n",
              "      <td>10.532512</td>\n",
              "      <td>1.711394</td>\n",
              "    </tr>\n",
              "    <tr>\n",
              "      <th>min</th>\n",
              "      <td>1939.000000</td>\n",
              "      <td>0.000080</td>\n",
              "      <td>0.008400</td>\n",
              "      <td>-11.920000</td>\n",
              "      <td>0.000000</td>\n",
              "    </tr>\n",
              "    <tr>\n",
              "      <th>25%</th>\n",
              "      <td>3344.250000</td>\n",
              "      <td>0.000865</td>\n",
              "      <td>0.102750</td>\n",
              "      <td>-6.232500</td>\n",
              "      <td>1.000000</td>\n",
              "    </tr>\n",
              "    <tr>\n",
              "      <th>50%</th>\n",
              "      <td>5776.000000</td>\n",
              "      <td>0.070500</td>\n",
              "      <td>0.762500</td>\n",
              "      <td>8.313000</td>\n",
              "      <td>2.500000</td>\n",
              "    </tr>\n",
              "    <tr>\n",
              "      <th>75%</th>\n",
              "      <td>15055.500000</td>\n",
              "      <td>198050.000000</td>\n",
              "      <td>42.750000</td>\n",
              "      <td>13.697500</td>\n",
              "      <td>4.000000</td>\n",
              "    </tr>\n",
              "    <tr>\n",
              "      <th>max</th>\n",
              "      <td>40000.000000</td>\n",
              "      <td>849420.000000</td>\n",
              "      <td>1948.500000</td>\n",
              "      <td>20.060000</td>\n",
              "      <td>5.000000</td>\n",
              "    </tr>\n",
              "  </tbody>\n",
              "</table>\n",
              "</div>\n",
              "      <button class=\"colab-df-convert\" onclick=\"convertToInteractive('df-55e7d10a-0c9b-48b0-917e-d972369690cb')\"\n",
              "              title=\"Convert this dataframe to an interactive table.\"\n",
              "              style=\"display:none;\">\n",
              "        \n",
              "  <svg xmlns=\"http://www.w3.org/2000/svg\" height=\"24px\"viewBox=\"0 0 24 24\"\n",
              "       width=\"24px\">\n",
              "    <path d=\"M0 0h24v24H0V0z\" fill=\"none\"/>\n",
              "    <path d=\"M18.56 5.44l.94 2.06.94-2.06 2.06-.94-2.06-.94-.94-2.06-.94 2.06-2.06.94zm-11 1L8.5 8.5l.94-2.06 2.06-.94-2.06-.94L8.5 2.5l-.94 2.06-2.06.94zm10 10l.94 2.06.94-2.06 2.06-.94-2.06-.94-.94-2.06-.94 2.06-2.06.94z\"/><path d=\"M17.41 7.96l-1.37-1.37c-.4-.4-.92-.59-1.43-.59-.52 0-1.04.2-1.43.59L10.3 9.45l-7.72 7.72c-.78.78-.78 2.05 0 2.83L4 21.41c.39.39.9.59 1.41.59.51 0 1.02-.2 1.41-.59l7.78-7.78 2.81-2.81c.8-.78.8-2.07 0-2.86zM5.41 20L4 18.59l7.72-7.72 1.47 1.35L5.41 20z\"/>\n",
              "  </svg>\n",
              "      </button>\n",
              "      \n",
              "  <style>\n",
              "    .colab-df-container {\n",
              "      display:flex;\n",
              "      flex-wrap:wrap;\n",
              "      gap: 12px;\n",
              "    }\n",
              "\n",
              "    .colab-df-convert {\n",
              "      background-color: #E8F0FE;\n",
              "      border: none;\n",
              "      border-radius: 50%;\n",
              "      cursor: pointer;\n",
              "      display: none;\n",
              "      fill: #1967D2;\n",
              "      height: 32px;\n",
              "      padding: 0 0 0 0;\n",
              "      width: 32px;\n",
              "    }\n",
              "\n",
              "    .colab-df-convert:hover {\n",
              "      background-color: #E2EBFA;\n",
              "      box-shadow: 0px 1px 2px rgba(60, 64, 67, 0.3), 0px 1px 3px 1px rgba(60, 64, 67, 0.15);\n",
              "      fill: #174EA6;\n",
              "    }\n",
              "\n",
              "    [theme=dark] .colab-df-convert {\n",
              "      background-color: #3B4455;\n",
              "      fill: #D2E3FC;\n",
              "    }\n",
              "\n",
              "    [theme=dark] .colab-df-convert:hover {\n",
              "      background-color: #434B5C;\n",
              "      box-shadow: 0px 1px 3px 1px rgba(0, 0, 0, 0.15);\n",
              "      filter: drop-shadow(0px 1px 2px rgba(0, 0, 0, 0.3));\n",
              "      fill: #FFFFFF;\n",
              "    }\n",
              "  </style>\n",
              "\n",
              "      <script>\n",
              "        const buttonEl =\n",
              "          document.querySelector('#df-55e7d10a-0c9b-48b0-917e-d972369690cb button.colab-df-convert');\n",
              "        buttonEl.style.display =\n",
              "          google.colab.kernel.accessAllowed ? 'block' : 'none';\n",
              "\n",
              "        async function convertToInteractive(key) {\n",
              "          const element = document.querySelector('#df-55e7d10a-0c9b-48b0-917e-d972369690cb');\n",
              "          const dataTable =\n",
              "            await google.colab.kernel.invokeFunction('convertToInteractive',\n",
              "                                                     [key], {});\n",
              "          if (!dataTable) return;\n",
              "\n",
              "          const docLinkHtml = 'Like what you see? Visit the ' +\n",
              "            '<a target=\"_blank\" href=https://colab.research.google.com/notebooks/data_table.ipynb>data table notebook</a>'\n",
              "            + ' to learn more about interactive tables.';\n",
              "          element.innerHTML = '';\n",
              "          dataTable['output_type'] = 'display_data';\n",
              "          await google.colab.output.renderOutput(dataTable, element);\n",
              "          const docLink = document.createElement('div');\n",
              "          docLink.innerHTML = docLinkHtml;\n",
              "          element.appendChild(docLink);\n",
              "        }\n",
              "      </script>\n",
              "    </div>\n",
              "  </div>\n",
              "  "
            ],
            "text/plain": [
              "       Temperature (K)  Luminosity(L/Lo)  Radius(R/Ro)  \\\n",
              "count       240.000000        240.000000    240.000000   \n",
              "mean      10497.462500     107188.361635    237.157781   \n",
              "std        9552.425037     179432.244940    517.155763   \n",
              "min        1939.000000          0.000080      0.008400   \n",
              "25%        3344.250000          0.000865      0.102750   \n",
              "50%        5776.000000          0.070500      0.762500   \n",
              "75%       15055.500000     198050.000000     42.750000   \n",
              "max       40000.000000     849420.000000   1948.500000   \n",
              "\n",
              "       Absolute magnitude(Mv)   Star type  \n",
              "count              240.000000  240.000000  \n",
              "mean                 4.382396    2.500000  \n",
              "std                 10.532512    1.711394  \n",
              "min                -11.920000    0.000000  \n",
              "25%                 -6.232500    1.000000  \n",
              "50%                  8.313000    2.500000  \n",
              "75%                 13.697500    4.000000  \n",
              "max                 20.060000    5.000000  "
            ]
          },
          "execution_count": 8,
          "metadata": {},
          "output_type": "execute_result"
        }
      ],
      "source": [
        "df_stars.describe()"
      ]
    },
    {
      "cell_type": "markdown",
      "metadata": {
        "id": "qjSwWRY-nR0B"
      },
      "source": [
        "Así mismo, una herramienta útil para descubrir posibles relaciones entre las variables es haciendo un mapa de calor de las correlaciones entre cada columna como se ve en la siguiente figura"
      ]
    },
    {
      "cell_type": "code",
      "execution_count": 9,
      "metadata": {
        "colab": {
          "base_uri": "https://localhost:8080/",
          "height": 625
        },
        "id": "rKyOa5rlfFlP",
        "outputId": "fd7422f3-5546-43b9-f6f0-ffc6aa9b6e25"
      },
      "outputs": [
        {
          "data": {
            "image/png": "[encoded data removed]",
            "text/plain": [
              "<Figure size 630x540 with 2 Axes>"
            ]
          },
          "metadata": {
            "needs_background": "light"
          },
          "output_type": "display_data"
        }
      ],
      "source": [
        "fig, ax = plt.subplots(figsize = (7, 6), dpi = 90)\n",
        "cor = sns.heatmap(df_stars.corr(), xticklabels=df_stars.corr().columns, yticklabels=df_stars.corr().columns,annot = True, ax = ax)\n",
        "cor.set_title('Correlation');\n",
        "#plt.savefig('Images/HeatMapCorrelation.png', bbox_inches='tight')\n",
        "plt.show();\n",
        "plt.close();"
      ]
    },
    {
      "cell_type": "markdown",
      "metadata": {
        "id": "l2DEefYjnR0C"
      },
      "source": [
        "Una alta correlación negativa se observa entre las cantidades de la magnitud absoluta y el tipo de estrella. Así mismo, hay otros 4 pares de variables con una correlación absoluta mayor a 0.6, que también deben considerarse.\n",
        "\n",
        "Por otro lado, observar la distribución de los datos respecto a la variable objetivo de los futuros modelos es importante, para lo cual se realiza la gráfica siguiente"
      ]
    },
    {
      "cell_type": "code",
      "execution_count": 10,
      "metadata": {
        "colab": {
          "base_uri": "https://localhost:8080/",
          "height": 537
        },
        "id": "MgjJ0_AsgHSI",
        "outputId": "995342d8-0043-4acc-9b31-08d4235b1ef3"
      },
      "outputs": [
        {
          "name": "stderr",
          "output_type": "stream",
          "text": [
            "/usr/local/lib/python3.8/dist-packages/seaborn/_decorators.py:36: FutureWarning: Pass the following variable as a keyword arg: x. From version 0.12, the only valid positional argument will be `data`, and passing other arguments without an explicit keyword will result in an error or misinterpretation.\n",
            "  warnings.warn(\n"
          ]
        },
        {
          "data": {
            "image/png": "[encoded data removed]",
            "text/plain": [
              "<Figure size 630x540 with 1 Axes>"
            ]
          },
          "metadata": {
            "needs_background": "light"
          },
          "output_type": "display_data"
        }
      ],
      "source": [
        "fig, ax = plt.subplots(figsize = (7, 6), dpi = 90)\n",
        "sns.countplot(df_stars['Star type'], palette = \"viridis\", ax = ax);"
      ]
    },
    {
      "cell_type": "markdown",
      "metadata": {
        "id": "ay7AJn0NnR0D"
      },
      "source": [
        "Dejando ver una distribución aparentemente perfecta de esta variable. Así mismo, es posible comparar el diagrama de Hertzprung Russell obtenido con las estrellas de este conjunto de datos con el diagrama habitual, mostrado a continuación\n",
        "\n",
        "<img src=https://upload.wikimedia.org/wikipedia/commons/6/6b/HRDiagram.png>"
      ]
    },
    {
      "cell_type": "code",
      "execution_count": 21,
      "metadata": {
        "colab": {
          "base_uri": "https://localhost:8080/",
          "height": 408
        },
        "id": "fQB-ChKtncUV",
        "outputId": "aa88abf5-b776-43ee-c6c4-5c5576f5dccd"
      },
      "outputs": [
        {
          "data": {
            "image/png": "[encoded data removed]",
            "text/plain": [
              "<Figure size 648x432 with 1 Axes>"
            ]
          },
          "metadata": {
            "needs_background": "light"
          },
          "output_type": "display_data"
        }
      ],
      "source": [
        "fig, ax = plt.subplots(1, figsize=(9,6))\n",
        "GroupedData = df_stars.groupby('Star type')\n",
        "for GroupName,group in GroupedData:\n",
        "    ax.scatter(group['Temperature (K)'], group['Luminosity(L/Lo)'],label = Nombres[GroupName])\n",
        "ax.legend(fontsize = 7.5)\n",
        "ax.set_xlabel(\"Temperature (K)\")\n",
        "ax.set_ylabel(\"Luminosity (L/Lo)\")\n",
        "ax.set_ylim(0.1*df_stars['Luminosity(L/Lo)'].min(),10*df_stars['Luminosity(L/Lo)'].max())\n",
        "ax.set_title('Hertzprung Russell Diagram')\n",
        "plt.xscale('log')\n",
        "plt.yscale('log')\n",
        "ax.invert_xaxis()\n",
        "plt.show()\n",
        "plt.close()"
      ]
    },
    {
      "cell_type": "markdown",
      "metadata": {
        "id": "eRWcd5XLndaC"
      },
      "source": [
        "Al observar las dos imágenes puede apreciarse la similitud entre ellas; a pesar de que no se vean del todo idénticas, los tipos de estrellas están ubicadas en las regiones correctas del diagrama. Ahora, se analizarán las variables tipo 'object' encontradas más atrás, para lo cual se inicia con su verificación como variables categóricas"
      ]
    },
    {
      "cell_type": "code",
      "execution_count": 13,
      "metadata": {
        "colab": {
          "base_uri": "https://localhost:8080/"
        },
        "id": "YS67HmgxUQoL",
        "outputId": "1b4b9326-f4cb-4834-8caa-0a5a0824fd97"
      },
      "outputs": [
        {
          "data": {
            "text/plain": [
              "array(['M', 'B', 'A', 'F', 'O', 'K', 'G'], dtype=object)"
            ]
          },
          "execution_count": 13,
          "metadata": {},
          "output_type": "execute_result"
        }
      ],
      "source": [
        "df_stars['Spectral Class'].unique()"
      ]
    },
    {
      "cell_type": "code",
      "execution_count": 14,
      "metadata": {
        "colab": {
          "base_uri": "https://localhost:8080/"
        },
        "id": "F2WZ4wQSLkv9",
        "outputId": "933f4f0d-705c-4263-93ee-bf17eb4abfce"
      },
      "outputs": [
        {
          "data": {
            "text/plain": [
              "array(['Red', 'Blue White', 'White', 'Yellowish White', 'Blue white',\n",
              "       'Pale yellow orange', 'Blue', 'Blue-white', 'Whitish',\n",
              "       'yellow-white', 'Orange', 'White-Yellow', 'white', 'Blue ',\n",
              "       'yellowish', 'Yellowish', 'Orange-Red', 'Blue white ',\n",
              "       'Blue-White'], dtype=object)"
            ]
          },
          "execution_count": 14,
          "metadata": {},
          "output_type": "execute_result"
        }
      ],
      "source": [
        "df_stars['Star color'].unique()"
      ]
    },
    {
      "cell_type": "markdown",
      "metadata": {
        "id": "AAD7-U4snR0E"
      },
      "source": [
        "La columna 'Spectral Class' está debidamente organizada, sin embargo, 'Star Color' posee varios colores iguales escritos de maneras distintas, cosa que debe corregirse. La siguiente es una figura que muestra la problemática que tiene dicha columna"
      ]
    },
    {
      "cell_type": "code",
      "execution_count": 15,
      "metadata": {
        "colab": {
          "base_uri": "https://localhost:8080/",
          "height": 516
        },
        "id": "goh690MJegqP",
        "outputId": "21b65aed-28de-4130-89f4-35c8ff036b30"
      },
      "outputs": [
        {
          "data": {
            "image/png": "[encoded data removed]",
            "text/plain": [
              "<Figure size 936x432 with 1 Axes>"
            ]
          },
          "metadata": {
            "needs_background": "light"
          },
          "output_type": "display_data"
        }
      ],
      "source": [
        "plt.figure(figsize = (13, 6))\n",
        "color = pd.DataFrame(df_stars['Star color'].value_counts().sort_values(ascending=False))\n",
        "ax = sns.barplot(x = color.index, y = 'Star color' , data = color, palette='magma')\n",
        "plt.title(\"Star Colors\", fontsize = 18)\n",
        "plt.ylabel('Star color', fontsize = 15)\n",
        "plt.xticks(fontsize = 14)\n",
        "plt.yticks(fontsize = 14)\n",
        "ax = ax.set_xticklabels(ax.get_xticklabels(), rotation = 90)"
      ]
    },
    {
      "attachments": {},
      "cell_type": "markdown",
      "metadata": {
        "id": "G96kha_cnR0G"
      },
      "source": [
        "Debido a lo anterior, una posible solución consistiría en definir una función que cambie todos los colores 'repetidos' por uno solo, para posteriormente hacer uso de one hot encoding para estas variables categóricas. Sin embargo, por mayor simplicidad en el modelo a construir, se realizará la separación entre las variables del modelo y la variable objetivo, así como se particionan los datos en entrenamiento y prueba y se hace un debido reescalamiento de los mismos"
      ]
    },
    {
      "cell_type": "code",
      "execution_count": 16,
      "metadata": {
        "id": "tYf74ctvTezL"
      },
      "outputs": [],
      "source": [
        "from sklearn.model_selection import train_test_split\n",
        "from sklearn.preprocessing import StandardScaler\n",
        "\n",
        "def preprocess(df):\n",
        "    df = df.copy()\n",
        "    \n",
        "    df = df.drop(['Star color', 'Spectral Class'], axis=1)\n",
        "\n",
        "    # Separación de variables\n",
        "    X = df.drop('Star type', axis=1)\n",
        "    y = df['Star type']\n",
        "    \n",
        "    # Train-test split\n",
        "    X_train, X_test, y_train, y_test = train_test_split(X, y, train_size=0.7, shuffle=True, random_state=0)\n",
        "\n",
        "    # Scale X\n",
        "    scaler = StandardScaler()\n",
        "    X_train = pd.DataFrame(scaler.fit_transform(X_train), index=X_train.index, columns=X_train.columns)\n",
        "    X_test = pd.DataFrame(scaler.transform(X_test), index=X_test.index, columns=X_test.columns)\n",
        "    \n",
        "    return X_train, X_test, y_train, y_test"
      ]
    },
    {
      "cell_type": "markdown",
      "metadata": {
        "id": "Jl700okKnR0I"
      },
      "source": [
        "Los nuevos datos se guardan en variables correspondientes de entrenamiento y prueba para las variables y etiquetas del modelo. A continuación se muestran algunas de dichas variables y la variable objetivo"
      ]
    },
    {
      "cell_type": "code",
      "execution_count": 17,
      "metadata": {
        "colab": {
          "base_uri": "https://localhost:8080/",
          "height": 334
        },
        "id": "bQ1GGcX_ZFhg",
        "outputId": "77a35966-f204-4275-d2f6-b80b6b9e3670"
      },
      "outputs": [
        {
          "data": {
            "text/html": [
              "\n",
              "  <div id=\"df-fca6580c-1556-4ba3-81e3-f57d8c0ac336\">\n",
              "    <div class=\"colab-df-container\">\n",
              "      <div>\n",
              "<style scoped>\n",
              "    .dataframe tbody tr th:only-of-type {\n",
              "        vertical-align: middle;\n",
              "    }\n",
              "\n",
              "    .dataframe tbody tr th {\n",
              "        vertical-align: top;\n",
              "    }\n",
              "\n",
              "    .dataframe thead th {\n",
              "        text-align: right;\n",
              "    }\n",
              "</style>\n",
              "<table border=\"1\" class=\"dataframe\">\n",
              "  <thead>\n",
              "    <tr style=\"text-align: right;\">\n",
              "      <th></th>\n",
              "      <th>Temperature (K)</th>\n",
              "      <th>Luminosity(L/Lo)</th>\n",
              "      <th>Radius(R/Ro)</th>\n",
              "      <th>Absolute magnitude(Mv)</th>\n",
              "      <th>Color_Blue</th>\n",
              "      <th>Color_Blue White</th>\n",
              "      <th>Color_Orange</th>\n",
              "      <th>Color_Orange-Red</th>\n",
              "      <th>Color_Pale yellow orange</th>\n",
              "      <th>Color_Red</th>\n",
              "      <th>...</th>\n",
              "      <th>Color_Whitish</th>\n",
              "      <th>Color_Yellowish</th>\n",
              "      <th>Color_Yellowish White</th>\n",
              "      <th>Class_A</th>\n",
              "      <th>Class_B</th>\n",
              "      <th>Class_F</th>\n",
              "      <th>Class_G</th>\n",
              "      <th>Class_K</th>\n",
              "      <th>Class_M</th>\n",
              "      <th>Class_O</th>\n",
              "    </tr>\n",
              "  </thead>\n",
              "  <tbody>\n",
              "    <tr>\n",
              "      <th>61</th>\n",
              "      <td>-0.710590</td>\n",
              "      <td>-0.607428</td>\n",
              "      <td>-0.458255</td>\n",
              "      <td>1.153147</td>\n",
              "      <td>-0.549841</td>\n",
              "      <td>-0.418121</td>\n",
              "      <td>-0.109764</td>\n",
              "      <td>0.0</td>\n",
              "      <td>-0.077382</td>\n",
              "      <td>1.036375</td>\n",
              "      <td>...</td>\n",
              "      <td>-0.077382</td>\n",
              "      <td>-0.109764</td>\n",
              "      <td>-0.223607</td>\n",
              "      <td>-0.324443</td>\n",
              "      <td>-0.456764</td>\n",
              "      <td>-0.27735</td>\n",
              "      <td>0.0</td>\n",
              "      <td>-0.13484</td>\n",
              "      <td>1.024100</td>\n",
              "      <td>-0.4279</td>\n",
              "    </tr>\n",
              "    <tr>\n",
              "      <th>210</th>\n",
              "      <td>1.368814</td>\n",
              "      <td>-0.532507</td>\n",
              "      <td>-0.446344</td>\n",
              "      <td>-0.799426</td>\n",
              "      <td>-0.549841</td>\n",
              "      <td>2.391652</td>\n",
              "      <td>-0.109764</td>\n",
              "      <td>0.0</td>\n",
              "      <td>-0.077382</td>\n",
              "      <td>-0.964901</td>\n",
              "      <td>...</td>\n",
              "      <td>-0.077382</td>\n",
              "      <td>-0.109764</td>\n",
              "      <td>-0.223607</td>\n",
              "      <td>-0.324443</td>\n",
              "      <td>2.189316</td>\n",
              "      <td>-0.27735</td>\n",
              "      <td>0.0</td>\n",
              "      <td>-0.13484</td>\n",
              "      <td>-0.976467</td>\n",
              "      <td>-0.4279</td>\n",
              "    </tr>\n",
              "    <tr>\n",
              "      <th>52</th>\n",
              "      <td>-0.666403</td>\n",
              "      <td>1.029405</td>\n",
              "      <td>1.824986</td>\n",
              "      <td>-1.323333</td>\n",
              "      <td>-0.549841</td>\n",
              "      <td>-0.418121</td>\n",
              "      <td>-0.109764</td>\n",
              "      <td>0.0</td>\n",
              "      <td>-0.077382</td>\n",
              "      <td>1.036375</td>\n",
              "      <td>...</td>\n",
              "      <td>-0.077382</td>\n",
              "      <td>-0.109764</td>\n",
              "      <td>-0.223607</td>\n",
              "      <td>-0.324443</td>\n",
              "      <td>-0.456764</td>\n",
              "      <td>-0.27735</td>\n",
              "      <td>0.0</td>\n",
              "      <td>-0.13484</td>\n",
              "      <td>1.024100</td>\n",
              "      <td>-0.4279</td>\n",
              "    </tr>\n",
              "    <tr>\n",
              "      <th>66</th>\n",
              "      <td>-0.764119</td>\n",
              "      <td>-0.607428</td>\n",
              "      <td>-0.458442</td>\n",
              "      <td>1.285781</td>\n",
              "      <td>-0.549841</td>\n",
              "      <td>-0.418121</td>\n",
              "      <td>-0.109764</td>\n",
              "      <td>0.0</td>\n",
              "      <td>-0.077382</td>\n",
              "      <td>1.036375</td>\n",
              "      <td>...</td>\n",
              "      <td>-0.077382</td>\n",
              "      <td>-0.109764</td>\n",
              "      <td>-0.223607</td>\n",
              "      <td>-0.324443</td>\n",
              "      <td>-0.456764</td>\n",
              "      <td>-0.27735</td>\n",
              "      <td>0.0</td>\n",
              "      <td>-0.13484</td>\n",
              "      <td>1.024100</td>\n",
              "      <td>-0.4279</td>\n",
              "    </tr>\n",
              "    <tr>\n",
              "      <th>26</th>\n",
              "      <td>-0.145838</td>\n",
              "      <td>-0.607428</td>\n",
              "      <td>-0.458603</td>\n",
              "      <td>0.893562</td>\n",
              "      <td>-0.549841</td>\n",
              "      <td>2.391652</td>\n",
              "      <td>-0.109764</td>\n",
              "      <td>0.0</td>\n",
              "      <td>-0.077382</td>\n",
              "      <td>-0.964901</td>\n",
              "      <td>...</td>\n",
              "      <td>-0.077382</td>\n",
              "      <td>-0.109764</td>\n",
              "      <td>-0.223607</td>\n",
              "      <td>3.082207</td>\n",
              "      <td>-0.456764</td>\n",
              "      <td>-0.27735</td>\n",
              "      <td>0.0</td>\n",
              "      <td>-0.13484</td>\n",
              "      <td>-0.976467</td>\n",
              "      <td>-0.4279</td>\n",
              "    </tr>\n",
              "  </tbody>\n",
              "</table>\n",
              "<p>5 rows × 21 columns</p>\n",
              "</div>\n",
              "      <button class=\"colab-df-convert\" onclick=\"convertToInteractive('df-fca6580c-1556-4ba3-81e3-f57d8c0ac336')\"\n",
              "              title=\"Convert this dataframe to an interactive table.\"\n",
              "              style=\"display:none;\">\n",
              "        \n",
              "  <svg xmlns=\"http://www.w3.org/2000/svg\" height=\"24px\"viewBox=\"0 0 24 24\"\n",
              "       width=\"24px\">\n",
              "    <path d=\"M0 0h24v24H0V0z\" fill=\"none\"/>\n",
              "    <path d=\"M18.56 5.44l.94 2.06.94-2.06 2.06-.94-2.06-.94-.94-2.06-.94 2.06-2.06.94zm-11 1L8.5 8.5l.94-2.06 2.06-.94-2.06-.94L8.5 2.5l-.94 2.06-2.06.94zm10 10l.94 2.06.94-2.06 2.06-.94-2.06-.94-.94-2.06-.94 2.06-2.06.94z\"/><path d=\"M17.41 7.96l-1.37-1.37c-.4-.4-.92-.59-1.43-.59-.52 0-1.04.2-1.43.59L10.3 9.45l-7.72 7.72c-.78.78-.78 2.05 0 2.83L4 21.41c.39.39.9.59 1.41.59.51 0 1.02-.2 1.41-.59l7.78-7.78 2.81-2.81c.8-.78.8-2.07 0-2.86zM5.41 20L4 18.59l7.72-7.72 1.47 1.35L5.41 20z\"/>\n",
              "  </svg>\n",
              "      </button>\n",
              "      \n",
              "  <style>\n",
              "    .colab-df-container {\n",
              "      display:flex;\n",
              "      flex-wrap:wrap;\n",
              "      gap: 12px;\n",
              "    }\n",
              "\n",
              "    .colab-df-convert {\n",
              "      background-color: #E8F0FE;\n",
              "      border: none;\n",
              "      border-radius: 50%;\n",
              "      cursor: pointer;\n",
              "      display: none;\n",
              "      fill: #1967D2;\n",
              "      height: 32px;\n",
              "      padding: 0 0 0 0;\n",
              "      width: 32px;\n",
              "    }\n",
              "\n",
              "    .colab-df-convert:hover {\n",
              "      background-color: #E2EBFA;\n",
              "      box-shadow: 0px 1px 2px rgba(60, 64, 67, 0.3), 0px 1px 3px 1px rgba(60, 64, 67, 0.15);\n",
              "      fill: #174EA6;\n",
              "    }\n",
              "\n",
              "    [theme=dark] .colab-df-convert {\n",
              "      background-color: #3B4455;\n",
              "      fill: #D2E3FC;\n",
              "    }\n",
              "\n",
              "    [theme=dark] .colab-df-convert:hover {\n",
              "      background-color: #434B5C;\n",
              "      box-shadow: 0px 1px 3px 1px rgba(0, 0, 0, 0.15);\n",
              "      filter: drop-shadow(0px 1px 2px rgba(0, 0, 0, 0.3));\n",
              "      fill: #FFFFFF;\n",
              "    }\n",
              "  </style>\n",
              "\n",
              "      <script>\n",
              "        const buttonEl =\n",
              "          document.querySelector('#df-fca6580c-1556-4ba3-81e3-f57d8c0ac336 button.colab-df-convert');\n",
              "        buttonEl.style.display =\n",
              "          google.colab.kernel.accessAllowed ? 'block' : 'none';\n",
              "\n",
              "        async function convertToInteractive(key) {\n",
              "          const element = document.querySelector('#df-fca6580c-1556-4ba3-81e3-f57d8c0ac336');\n",
              "          const dataTable =\n",
              "            await google.colab.kernel.invokeFunction('convertToInteractive',\n",
              "                                                     [key], {});\n",
              "          if (!dataTable) return;\n",
              "\n",
              "          const docLinkHtml = 'Like what you see? Visit the ' +\n",
              "            '<a target=\"_blank\" href=https://colab.research.google.com/notebooks/data_table.ipynb>data table notebook</a>'\n",
              "            + ' to learn more about interactive tables.';\n",
              "          element.innerHTML = '';\n",
              "          dataTable['output_type'] = 'display_data';\n",
              "          await google.colab.output.renderOutput(dataTable, element);\n",
              "          const docLink = document.createElement('div');\n",
              "          docLink.innerHTML = docLinkHtml;\n",
              "          element.appendChild(docLink);\n",
              "        }\n",
              "      </script>\n",
              "    </div>\n",
              "  </div>\n",
              "  "
            ],
            "text/plain": [
              "     Temperature (K)  Luminosity(L/Lo)  Radius(R/Ro)  Absolute magnitude(Mv)  \\\n",
              "61         -0.710590         -0.607428     -0.458255                1.153147   \n",
              "210         1.368814         -0.532507     -0.446344               -0.799426   \n",
              "52         -0.666403          1.029405      1.824986               -1.323333   \n",
              "66         -0.764119         -0.607428     -0.458442                1.285781   \n",
              "26         -0.145838         -0.607428     -0.458603                0.893562   \n",
              "\n",
              "     Color_Blue  Color_Blue White  Color_Orange  Color_Orange-Red  \\\n",
              "61    -0.549841         -0.418121     -0.109764               0.0   \n",
              "210   -0.549841          2.391652     -0.109764               0.0   \n",
              "52    -0.549841         -0.418121     -0.109764               0.0   \n",
              "66    -0.549841         -0.418121     -0.109764               0.0   \n",
              "26    -0.549841          2.391652     -0.109764               0.0   \n",
              "\n",
              "     Color_Pale yellow orange  Color_Red  ...  Color_Whitish  Color_Yellowish  \\\n",
              "61                  -0.077382   1.036375  ...      -0.077382        -0.109764   \n",
              "210                 -0.077382  -0.964901  ...      -0.077382        -0.109764   \n",
              "52                  -0.077382   1.036375  ...      -0.077382        -0.109764   \n",
              "66                  -0.077382   1.036375  ...      -0.077382        -0.109764   \n",
              "26                  -0.077382  -0.964901  ...      -0.077382        -0.109764   \n",
              "\n",
              "     Color_Yellowish White   Class_A   Class_B  Class_F  Class_G  Class_K  \\\n",
              "61               -0.223607 -0.324443 -0.456764 -0.27735      0.0 -0.13484   \n",
              "210              -0.223607 -0.324443  2.189316 -0.27735      0.0 -0.13484   \n",
              "52               -0.223607 -0.324443 -0.456764 -0.27735      0.0 -0.13484   \n",
              "66               -0.223607 -0.324443 -0.456764 -0.27735      0.0 -0.13484   \n",
              "26               -0.223607  3.082207 -0.456764 -0.27735      0.0 -0.13484   \n",
              "\n",
              "      Class_M  Class_O  \n",
              "61   1.024100  -0.4279  \n",
              "210 -0.976467  -0.4279  \n",
              "52   1.024100  -0.4279  \n",
              "66   1.024100  -0.4279  \n",
              "26  -0.976467  -0.4279  \n",
              "\n",
              "[5 rows x 21 columns]"
            ]
          },
          "execution_count": 17,
          "metadata": {},
          "output_type": "execute_result"
        }
      ],
      "source": [
        "X_train, X_test, y_train, y_test = preprocess(df_stars)\n",
        "X_train.head(5)"
      ]
    },
    {
      "cell_type": "code",
      "execution_count": 18,
      "metadata": {
        "colab": {
          "base_uri": "https://localhost:8080/"
        },
        "id": "6d-IBscLZnsz",
        "outputId": "a1517d24-f925-4529-e2df-02cdb15670e6"
      },
      "outputs": [
        {
          "data": {
            "text/plain": [
              "61     0\n",
              "210    3\n",
              "52     5\n",
              "66     0\n",
              "26     2\n",
              "Name: Star type, dtype: int64"
            ]
          },
          "execution_count": 18,
          "metadata": {},
          "output_type": "execute_result"
        }
      ],
      "source": [
        "y_train.head(5)"
      ]
    },
    {
      "cell_type": "markdown",
      "metadata": {
        "id": "bZlZFkOwnR0J"
      },
      "source": [
        "Finalmente, guardamos los datos ya preprocesados, separados y ya listos para implementar modelos de aprendizaje automático como archivos .csv"
      ]
    },
    {
      "cell_type": "code",
      "execution_count": 19,
      "metadata": {
        "id": "5Ob3me1PnR0J"
      },
      "outputs": [],
      "source": [
        "X_train.to_csv('X_train.csv')\n",
        "X_test.to_csv('X_test.csv')\n",
        "y_train.to_csv('y_train.csv')\n",
        "y_test.to_csv('y_test.csv')"
      ]
    }
  ],
  "metadata": {
    "colab": {
      "provenance": []
    },
    "kernelspec": {
      "display_name": "Python 3",
      "language": "python",
      "name": "python3"
    },
    "language_info": {
      "codemirror_mode": {
        "name": "ipython",
        "version": 3
      },
      "file_extension": ".py",
      "mimetype": "text/x-python",
      "name": "python",
      "nbconvert_exporter": "python",
      "pygments_lexer": "ipython3",
      "version": "3.8.8"
    }
  },
  "nbformat": 4,
  "nbformat_minor": 0
}
