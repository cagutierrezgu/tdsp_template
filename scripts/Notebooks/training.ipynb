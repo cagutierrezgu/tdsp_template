{
  "cells": [
    {
      "cell_type": "markdown",
      "metadata": {
        "id": "gaO4M3goqLai"
      },
      "source": [
        "# Entrenamiento de modelos"
      ]
    },
    {
      "cell_type": "code",
      "execution_count": 11,
      "metadata": {
        "id": "lVeexbbFhbZ0"
      },
      "outputs": [],
      "source": [
        "import numpy as np\n",
        "import pandas as pd\n",
        "import seaborn as sns\n",
        "import matplotlib.pyplot as plt\n",
        "from sklearn.tree import DecisionTreeClassifier\n",
        "from sklearn.model_selection import train_test_split\n",
        "from sklearn import model_selection\n",
        "from sklearn.metrics import confusion_matrix\n",
        "from data_loading import dataload\n",
        "from data_exploring import preprocess"
      ]
    },
    {
      "cell_type": "code",
      "execution_count": 3,
      "metadata": {
        "colab": {
          "base_uri": "https://localhost:8080/"
        },
        "id": "dtqBwfyNbv6R",
        "outputId": "6990acca-37c3-4b80-f21c-c181029b3991"
      },
      "outputs": [
        {
          "name": "stderr",
          "output_type": "stream",
          "text": [
            "Downloading...\n",
            "From: https://drive.google.com/uc?export=download&id=1oOgj9f5UTITTDzMehEIIzNz2aoR2IlgZ\n",
            "To: /content/stars.csv\n",
            "100%|██████████| 8.48k/8.48k [00:00<00:00, 12.8MB/s]\n"
          ]
        }
      ],
      "source": [
        "link = 'https://drive.google.com/uc?export=download&id=1oOgj9f5UTITTDzMehEIIzNz2aoR2IlgZ'\n",
        "name = 'stars.csv'\n",
        "df_stars = dataload(link, name)"
      ]
    },
    {
      "cell_type": "code",
      "execution_count": 4,
      "metadata": {
        "id": "peRe7cD7b21l"
      },
      "outputs": [],
      "source": [
        "X_train, X_test, y_train, y_test = preprocess(df_stars)"
      ]
    },
    {
      "cell_type": "code",
      "execution_count": 9,
      "metadata": {
        "id": "C1Pr0UB_bUDN"
      },
      "outputs": [],
      "source": [
        "def train(X, y):\n",
        "  tree = DecisionTreeClassifier(random_state=333)\n",
        "  tree.fit(X_train, y_train)\n",
        "\n",
        "  param_grid = {\n",
        "    \"max_depth\": range(2, 26),\n",
        "    \"criterion\": [\"gini\", \"entropy\"]\n",
        "    }\n",
        "  gsearch = model_selection.GridSearchCV(tree, \n",
        "                   param_grid=param_grid,\n",
        "                   return_train_score=True, cv=3)\n",
        "\n",
        "  gsearch.fit(X_train, y_train)\n",
        "  return gsearch.best_params_['criterion'], gsearch.best_params_['max_depth']"
      ]
    },
    {
      "cell_type": "code",
      "execution_count": 10,
      "metadata": {
        "colab": {
          "base_uri": "https://localhost:8080/"
        },
        "id": "CnFoEOrBckut",
        "outputId": "ba4f8833-80e0-44d3-a860-921f488f9119"
      },
      "outputs": [
        {
          "data": {
            "text/plain": [
              "('gini', 5)"
            ]
          },
          "execution_count": 10,
          "metadata": {},
          "output_type": "execute_result"
        }
      ],
      "source": [
        "cr, depth = train(X_train, y_train)\n",
        "print(cr, depth)"
      ]
    },
    {
      "cell_type": "code",
      "execution_count": 13,
      "metadata": {
        "colab": {
          "base_uri": "https://localhost:8080/",
          "height": 295
        },
        "id": "wWXk9meKc1X0",
        "outputId": "72ccf23b-5ed8-4573-98cb-35ae3cf92f38"
      },
      "outputs": [
        {
          "data": {
            "image/png": "[encoded data removed]",
            "text/plain": [
              "<Figure size 432x288 with 2 Axes>"
            ]
          },
          "metadata": {
            "needs_background": "light"
          },
          "output_type": "display_data"
        }
      ],
      "source": [
        "Nombres = {0:'Brown Dwarf',1:'Red Dwarf',2:'White Dwarf',3:'Main Sequence',4:'Supergiant',5:'Hypergiant'}\n",
        "\n",
        "tree = DecisionTreeClassifier(criterion = cr, max_depth = depth)\n",
        "tree.fit(X_train,y_train)\n",
        "prediction = tree.predict(X_test)\n",
        "\n",
        "cm = confusion_matrix(np.asarray(y_test),prediction)\n",
        "cmn = cm.astype('float') / cm.sum(axis=1)[:, np.newaxis]\n",
        "CM = sns.heatmap(cmn, xticklabels=Nombres, yticklabels=Nombres, annot = True)\n",
        "CM.set_ylabel('True Star Type')\n",
        "CM.set_xlabel('Predicted Star Type')\n",
        "CM.set_title('Confusion Matrix')\n",
        "plt.show()\n",
        "plt.close()"
      ]
    }
  ],
  "metadata": {
    "colab": {
      "provenance": []
    },
    "kernelspec": {
      "display_name": "Python 3",
      "language": "python",
      "name": "python3"
    },
    "language_info": {
      "name": "python",
      "version": "3.9.7 (tags/v3.9.7:1016ef3, Aug 30 2021, 20:19:38) [MSC v.1929 64 bit (AMD64)]"
    },
    "vscode": {
      "interpreter": {
        "hash": "dc07cbaf59758b4e076f16a976b4af3f522815d450fa899da4a654a4acbc8f71"
      }
    }
  },
  "nbformat": 4,
  "nbformat_minor": 0
}
