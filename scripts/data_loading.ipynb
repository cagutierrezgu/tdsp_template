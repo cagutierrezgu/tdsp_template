{
 "cells": [
  {
   "cell_type": "markdown",
   "metadata": {
    "id": "2Z0W0pHc0vPc"
   },
   "source": [
    "# Carga de datos para el modelo"
   ]
  },
  {
   "cell_type": "markdown",
   "metadata": {
    "id": "bwM0pzgM02-H"
   },
   "source": [
    "A continuación se presentan los pasos a seguir para descargar el dataframe que contiene los datos que se usarán en el modelo a implementar. Inicialmente, los datos se descargan de la página web [Kaggle](https://www.kaggle.com/deepu1109/star-dataset) a una máquina local. A continuación, dicho archivo se traslada a una carpeta de Google Drive, a la cual se tiene acceso público para descargar los datos directamente desde allí.\n",
    "\n",
    "La líbrería que se usará para extraer el archivo .csv de Google Drive es *gdown*, así que se procede a su instalación como sigue"
   ]
  },
  {
   "cell_type": "code",
   "execution_count": 1,
   "metadata": {
    "colab": {
     "base_uri": "https://localhost:8080/"
    },
    "id": "dgzwi_dXYe14",
    "outputId": "26d19b1d-3422-4e26-ad1a-27e460193359"
   },
   "outputs": [
    {
     "name": "stdout",
     "output_type": "stream",
     "text": [
      "Requirement already satisfied: gdown in c:\\users\\hurom\\anaconda3\\lib\\site-packages (4.5.4)\n",
      "Requirement already satisfied: six in c:\\users\\hurom\\anaconda3\\lib\\site-packages (from gdown) (1.15.0)\n",
      "Requirement already satisfied: tqdm in c:\\users\\hurom\\anaconda3\\lib\\site-packages (from gdown) (4.64.1)\n",
      "Requirement already satisfied: beautifulsoup4 in c:\\users\\hurom\\anaconda3\\lib\\site-packages (from gdown) (4.9.3)\n",
      "Requirement already satisfied: requests[socks] in c:\\users\\hurom\\anaconda3\\lib\\site-packages (from gdown) (2.28.1)\n",
      "Requirement already satisfied: filelock in c:\\users\\hurom\\anaconda3\\lib\\site-packages (from gdown) (3.0.12)\n",
      "Requirement already satisfied: soupsieve>1.2 in c:\\users\\hurom\\anaconda3\\lib\\site-packages (from beautifulsoup4->gdown) (2.2.1)\n",
      "Requirement already satisfied: urllib3<1.27,>=1.21.1 in c:\\users\\hurom\\anaconda3\\lib\\site-packages (from requests[socks]->gdown) (1.26.4)\n",
      "Requirement already satisfied: charset-normalizer<3,>=2 in c:\\users\\hurom\\anaconda3\\lib\\site-packages (from requests[socks]->gdown) (2.1.1)\n",
      "Requirement already satisfied: certifi>=2017.4.17 in c:\\users\\hurom\\anaconda3\\lib\\site-packages (from requests[socks]->gdown) (2022.6.15)\n",
      "Requirement already satisfied: idna<4,>=2.5 in c:\\users\\hurom\\anaconda3\\lib\\site-packages (from requests[socks]->gdown) (2.10)\n",
      "Requirement already satisfied: PySocks!=1.5.7,>=1.5.6 in c:\\users\\hurom\\anaconda3\\lib\\site-packages (from requests[socks]->gdown) (1.7.1)\n",
      "Requirement already satisfied: colorama in c:\\users\\hurom\\anaconda3\\lib\\site-packages (from tqdm->gdown) (0.4.4)\n"
     ]
    }
   ],
   "source": [
    "!pip install gdown"
   ]
  },
  {
   "cell_type": "markdown",
   "metadata": {
    "id": "J8z6rsKnbwHH"
   },
   "source": [
    "Luego se importa esta librería descargada junto con la librería de pandas para manipular el dataframe en Python"
   ]
  },
  {
   "cell_type": "code",
   "execution_count": 2,
   "metadata": {
    "id": "DgXMZrcn-xhL"
   },
   "outputs": [],
   "source": [
    "import pandas as pd\n",
    "import gdown"
   ]
  },
  {
   "cell_type": "markdown",
   "metadata": {
    "id": "MNjcZATNHy08"
   },
   "source": [
    "Se define ahora una función para realizar la carga de los datos de la carpeta de Drive, así mismo se le asocia un nombre a dicho archivo. Además, se carga lee el .csv con la librería de pandas y se guarda en un dataframe"
   ]
  },
  {
   "cell_type": "code",
   "execution_count": 3,
   "metadata": {
    "id": "DvmzDeJQ0LQe"
   },
   "outputs": [],
   "source": [
    "def dataload(link, name):\n",
    "    gdown.download(link, name, quiet=False)\n",
    "    df = pd.read_csv(name)\n",
    "    return df"
   ]
  },
  {
   "cell_type": "markdown",
   "metadata": {
    "id": "hZ_wLB_CHzLb"
   },
   "source": [
    "El siguiente paso es hacer uso de la anterior función, para lo cual se presenta la url del archivo y se asocia con un nombre relacionado a la temática"
   ]
  },
  {
   "cell_type": "code",
   "execution_count": 4,
   "metadata": {
    "colab": {
     "base_uri": "https://localhost:8080/"
    },
    "id": "thoTjx8tFjqR",
    "outputId": "c660498d-827c-4c71-8c33-a9299ee1b477"
   },
   "outputs": [
    {
     "name": "stderr",
     "output_type": "stream",
     "text": [
      "Downloading...\n",
      "From: https://drive.google.com/uc?export=download&id=1oOgj9f5UTITTDzMehEIIzNz2aoR2IlgZ\n",
      "To: C:\\Users\\hurom\\Jupyter\\MLDS\\MLDS6\\project\\tdsp_template\\scripts\\stars.csv\n",
      "100%|██████████████████████████████████████████████████████████████████████████████| 8.48k/8.48k [00:00<00:00, 519kB/s]\n"
     ]
    }
   ],
   "source": [
    "link = 'https://drive.google.com/uc?export=download&id=1oOgj9f5UTITTDzMehEIIzNz2aoR2IlgZ'\n",
    "name = 'stars.csv'\n",
    "df_stars = dataload(link, name)"
   ]
  },
  {
   "cell_type": "markdown",
   "metadata": {
    "id": "5Vxl0IKhH0H0"
   },
   "source": [
    "Finalmente, mostramos las primeras líneas de dicho dataframe para verificar que los datos fueron cargados correctamente"
   ]
  },
  {
   "cell_type": "code",
   "execution_count": 5,
   "metadata": {
    "colab": {
     "base_uri": "https://localhost:8080/",
     "height": 206
    },
    "id": "v_eGXI-kC1-4",
    "outputId": "4f702a6b-5538-4f42-a5d0-2954230a2e13"
   },
   "outputs": [
    {
     "data": {
      "text/html": [
       "<div>\n",
       "<style scoped>\n",
       "    .dataframe tbody tr th:only-of-type {\n",
       "        vertical-align: middle;\n",
       "    }\n",
       "\n",
       "    .dataframe tbody tr th {\n",
       "        vertical-align: top;\n",
       "    }\n",
       "\n",
       "    .dataframe thead th {\n",
       "        text-align: right;\n",
       "    }\n",
       "</style>\n",
       "<table border=\"1\" class=\"dataframe\">\n",
       "  <thead>\n",
       "    <tr style=\"text-align: right;\">\n",
       "      <th></th>\n",
       "      <th>Temperature (K)</th>\n",
       "      <th>Luminosity(L/Lo)</th>\n",
       "      <th>Radius(R/Ro)</th>\n",
       "      <th>Absolute magnitude(Mv)</th>\n",
       "      <th>Star type</th>\n",
       "      <th>Star color</th>\n",
       "      <th>Spectral Class</th>\n",
       "    </tr>\n",
       "  </thead>\n",
       "  <tbody>\n",
       "    <tr>\n",
       "      <th>0</th>\n",
       "      <td>3068</td>\n",
       "      <td>0.002400</td>\n",
       "      <td>0.1700</td>\n",
       "      <td>16.12</td>\n",
       "      <td>0</td>\n",
       "      <td>Red</td>\n",
       "      <td>M</td>\n",
       "    </tr>\n",
       "    <tr>\n",
       "      <th>1</th>\n",
       "      <td>3042</td>\n",
       "      <td>0.000500</td>\n",
       "      <td>0.1542</td>\n",
       "      <td>16.60</td>\n",
       "      <td>0</td>\n",
       "      <td>Red</td>\n",
       "      <td>M</td>\n",
       "    </tr>\n",
       "    <tr>\n",
       "      <th>2</th>\n",
       "      <td>2600</td>\n",
       "      <td>0.000300</td>\n",
       "      <td>0.1020</td>\n",
       "      <td>18.70</td>\n",
       "      <td>0</td>\n",
       "      <td>Red</td>\n",
       "      <td>M</td>\n",
       "    </tr>\n",
       "    <tr>\n",
       "      <th>3</th>\n",
       "      <td>2800</td>\n",
       "      <td>0.000200</td>\n",
       "      <td>0.1600</td>\n",
       "      <td>16.65</td>\n",
       "      <td>0</td>\n",
       "      <td>Red</td>\n",
       "      <td>M</td>\n",
       "    </tr>\n",
       "    <tr>\n",
       "      <th>4</th>\n",
       "      <td>1939</td>\n",
       "      <td>0.000138</td>\n",
       "      <td>0.1030</td>\n",
       "      <td>20.06</td>\n",
       "      <td>0</td>\n",
       "      <td>Red</td>\n",
       "      <td>M</td>\n",
       "    </tr>\n",
       "  </tbody>\n",
       "</table>\n",
       "</div>"
      ],
      "text/plain": [
       "   Temperature (K)  Luminosity(L/Lo)  Radius(R/Ro)  Absolute magnitude(Mv)  \\\n",
       "0             3068          0.002400        0.1700                   16.12   \n",
       "1             3042          0.000500        0.1542                   16.60   \n",
       "2             2600          0.000300        0.1020                   18.70   \n",
       "3             2800          0.000200        0.1600                   16.65   \n",
       "4             1939          0.000138        0.1030                   20.06   \n",
       "\n",
       "   Star type Star color Spectral Class  \n",
       "0          0        Red              M  \n",
       "1          0        Red              M  \n",
       "2          0        Red              M  \n",
       "3          0        Red              M  \n",
       "4          0        Red              M  "
      ]
     },
     "execution_count": 5,
     "metadata": {},
     "output_type": "execute_result"
    }
   ],
   "source": [
    "df_stars.head(5)"
   ]
  }
 ],
 "metadata": {
  "colab": {
   "provenance": []
  },
  "kernelspec": {
   "display_name": "Python 3",
   "language": "python",
   "name": "python3"
  },
  "language_info": {
   "codemirror_mode": {
    "name": "ipython",
    "version": 3
   },
   "file_extension": ".py",
   "mimetype": "text/x-python",
   "name": "python",
   "nbconvert_exporter": "python",
   "pygments_lexer": "ipython3",
   "version": "3.8.8"
  }
 },
 "nbformat": 4,
 "nbformat_minor": 1
}
