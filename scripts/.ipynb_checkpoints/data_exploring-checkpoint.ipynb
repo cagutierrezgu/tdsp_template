{
 "cells": [
  {
   "cell_type": "markdown",
   "metadata": {
    "id": "dWB1Sstj3e8L"
   },
   "source": [
    "# Preprocesamiento y exploración de los datos"
   ]
  },
  {
   "cell_type": "markdown",
   "metadata": {
    "id": "HMmBqBS63exz"
   },
   "source": [
    "Una vez cargados los datos en el ambiente de Python (archivo data_loading.py o data_loading.ipynb) se realizará el debido preprocesamiento de estos junto con una primera exploración de los mismos para encontrar algunas de características que resulten útiles para la posterior implementación de modelos de aprendizaje automático.\n",
    "\n",
    "En primer lugar, se importan las librerías necesarias para este script, así como el archivo .py de la adquisición de los datos"
   ]
  },
  {
   "cell_type": "code",
   "execution_count": 1,
   "metadata": {
    "colab": {
     "base_uri": "https://localhost:8080/",
     "height": 373
    },
    "id": "g7I1iMC71esn",
    "outputId": "5292b4dd-2c76-42d7-c9b2-ba140e5a6355"
   },
   "outputs": [
    {
     "name": "stderr",
     "output_type": "stream",
     "text": [
      "Downloading...\n",
      "From: https://drive.google.com/uc?export=download&id=1oOgj9f5UTITTDzMehEIIzNz2aoR2IlgZ\n",
      "To: C:\\Users\\hurom\\Jupyter\\MLDS\\MLDS6\\stars.csv\n",
      "100%|██████████████████████████████████████████████████████████████████████████████| 8.48k/8.48k [00:00<00:00, 247kB/s]\n"
     ]
    }
   ],
   "source": [
    "import numpy as np\n",
    "import pandas as pd\n",
    "import seaborn as sns\n",
    "import matplotlib.pyplot as plt\n",
    "import sklearn\n",
    "import data_loading as data"
   ]
  },
  {
   "cell_type": "markdown",
   "metadata": {},
   "source": [
    "A continuación se usa la función *dataload* definida en el script de carga de datos para obtener los datos a partir del link que contiene el archivo"
   ]
  },
  {
   "cell_type": "code",
   "execution_count": 2,
   "metadata": {},
   "outputs": [
    {
     "name": "stderr",
     "output_type": "stream",
     "text": [
      "Downloading...\n",
      "From: https://drive.google.com/uc?export=download&id=1oOgj9f5UTITTDzMehEIIzNz2aoR2IlgZ\n",
      "To: C:\\Users\\hurom\\Jupyter\\MLDS\\MLDS6\\stars.csv\n",
      "100%|██████████████████████████████████████████████████████████████████████████████| 8.48k/8.48k [00:00<00:00, 208kB/s]\n"
     ]
    }
   ],
   "source": [
    "link = 'https://drive.google.com/uc?export=download&id=1oOgj9f5UTITTDzMehEIIzNz2aoR2IlgZ'\n",
    "name = 'stars.csv'\n",
    "df_stars = data.dataload(link, name)"
   ]
  },
  {
   "cell_type": "markdown",
   "metadata": {},
   "source": [
    "Verificamos que se hizo una correcta carga de los datos mostrando algunos datos del dataframe"
   ]
  },
  {
   "cell_type": "code",
   "execution_count": 3,
   "metadata": {
    "colab": {
     "base_uri": "https://localhost:8080/",
     "height": 206
    },
    "id": "D14YqE9ORTrT",
    "outputId": "b595739e-486c-4939-db6d-9f337d1c4968"
   },
   "outputs": [
    {
     "data": {
      "text/html": [
       "<div>\n",
       "<style scoped>\n",
       "    .dataframe tbody tr th:only-of-type {\n",
       "        vertical-align: middle;\n",
       "    }\n",
       "\n",
       "    .dataframe tbody tr th {\n",
       "        vertical-align: top;\n",
       "    }\n",
       "\n",
       "    .dataframe thead th {\n",
       "        text-align: right;\n",
       "    }\n",
       "</style>\n",
       "<table border=\"1\" class=\"dataframe\">\n",
       "  <thead>\n",
       "    <tr style=\"text-align: right;\">\n",
       "      <th></th>\n",
       "      <th>Temperature (K)</th>\n",
       "      <th>Luminosity(L/Lo)</th>\n",
       "      <th>Radius(R/Ro)</th>\n",
       "      <th>Absolute magnitude(Mv)</th>\n",
       "      <th>Star type</th>\n",
       "      <th>Star color</th>\n",
       "      <th>Spectral Class</th>\n",
       "    </tr>\n",
       "  </thead>\n",
       "  <tbody>\n",
       "    <tr>\n",
       "      <th>0</th>\n",
       "      <td>3068</td>\n",
       "      <td>0.002400</td>\n",
       "      <td>0.1700</td>\n",
       "      <td>16.12</td>\n",
       "      <td>0</td>\n",
       "      <td>Red</td>\n",
       "      <td>M</td>\n",
       "    </tr>\n",
       "    <tr>\n",
       "      <th>1</th>\n",
       "      <td>3042</td>\n",
       "      <td>0.000500</td>\n",
       "      <td>0.1542</td>\n",
       "      <td>16.60</td>\n",
       "      <td>0</td>\n",
       "      <td>Red</td>\n",
       "      <td>M</td>\n",
       "    </tr>\n",
       "    <tr>\n",
       "      <th>2</th>\n",
       "      <td>2600</td>\n",
       "      <td>0.000300</td>\n",
       "      <td>0.1020</td>\n",
       "      <td>18.70</td>\n",
       "      <td>0</td>\n",
       "      <td>Red</td>\n",
       "      <td>M</td>\n",
       "    </tr>\n",
       "    <tr>\n",
       "      <th>3</th>\n",
       "      <td>2800</td>\n",
       "      <td>0.000200</td>\n",
       "      <td>0.1600</td>\n",
       "      <td>16.65</td>\n",
       "      <td>0</td>\n",
       "      <td>Red</td>\n",
       "      <td>M</td>\n",
       "    </tr>\n",
       "    <tr>\n",
       "      <th>4</th>\n",
       "      <td>1939</td>\n",
       "      <td>0.000138</td>\n",
       "      <td>0.1030</td>\n",
       "      <td>20.06</td>\n",
       "      <td>0</td>\n",
       "      <td>Red</td>\n",
       "      <td>M</td>\n",
       "    </tr>\n",
       "  </tbody>\n",
       "</table>\n",
       "</div>"
      ],
      "text/plain": [
       "   Temperature (K)  Luminosity(L/Lo)  Radius(R/Ro)  Absolute magnitude(Mv)  \\\n",
       "0             3068          0.002400        0.1700                   16.12   \n",
       "1             3042          0.000500        0.1542                   16.60   \n",
       "2             2600          0.000300        0.1020                   18.70   \n",
       "3             2800          0.000200        0.1600                   16.65   \n",
       "4             1939          0.000138        0.1030                   20.06   \n",
       "\n",
       "   Star type Star color Spectral Class  \n",
       "0          0        Red              M  \n",
       "1          0        Red              M  \n",
       "2          0        Red              M  \n",
       "3          0        Red              M  \n",
       "4          0        Red              M  "
      ]
     },
     "execution_count": 3,
     "metadata": {},
     "output_type": "execute_result"
    }
   ],
   "source": [
    "df_stars.head(5)"
   ]
  },
  {
   "cell_type": "markdown",
   "metadata": {},
   "source": [
    "Antes de continuar, se guardan en un diccionario las etiquetas para cada tipo de estrella, las variables a predecir en los modelos posteriores"
   ]
  },
  {
   "cell_type": "code",
   "execution_count": 4,
   "metadata": {},
   "outputs": [],
   "source": [
    "Nombres = {0:'Brown Dwarf',1:'Red Dwarf',2:'White Dwarf',3:'Main Sequence',4:'Supergiant',5:'Hypergiant'}"
   ]
  },
  {
   "cell_type": "markdown",
   "metadata": {},
   "source": [
    "Una de las primeras acciones a realizar con los datos es conocer la naturaleza de estos, para lo que vemos el tipo de variable de cada columna y la posible existencia de datos faltantes"
   ]
  },
  {
   "cell_type": "code",
   "execution_count": 5,
   "metadata": {
    "colab": {
     "base_uri": "https://localhost:8080/"
    },
    "id": "91KM67wl2nHl",
    "outputId": "d217ef35-cf00-438d-e03e-165fe16ca547"
   },
   "outputs": [
    {
     "data": {
      "text/plain": [
       "Temperature (K)             int64\n",
       "Luminosity(L/Lo)          float64\n",
       "Radius(R/Ro)              float64\n",
       "Absolute magnitude(Mv)    float64\n",
       "Star type                   int64\n",
       "Star color                 object\n",
       "Spectral Class             object\n",
       "dtype: object"
      ]
     },
     "execution_count": 5,
     "metadata": {},
     "output_type": "execute_result"
    }
   ],
   "source": [
    "df_stars.dtypes"
   ]
  },
  {
   "cell_type": "code",
   "execution_count": 6,
   "metadata": {
    "colab": {
     "base_uri": "https://localhost:8080/"
    },
    "id": "BO9x2iz5ReUX",
    "outputId": "473180dc-8c58-46f0-d123-2b30c7a552e2"
   },
   "outputs": [
    {
     "data": {
      "text/plain": [
       "Temperature (K)           0\n",
       "Luminosity(L/Lo)          0\n",
       "Radius(R/Ro)              0\n",
       "Absolute magnitude(Mv)    0\n",
       "Star type                 0\n",
       "Star color                0\n",
       "Spectral Class            0\n",
       "dtype: int64"
      ]
     },
     "execution_count": 6,
     "metadata": {},
     "output_type": "execute_result"
    }
   ],
   "source": [
    "df_stars.isna().sum()"
   ]
  },
  {
   "cell_type": "markdown",
   "metadata": {},
   "source": [
    "Lo anterior deja ver que no existen datos faltantes, por lo que no habrá necesidad de eliminación de filas o columnas de datos ni imputación de estos. Por otro lado, existen 2 variables tipo 'object' que como se verá más adelante corresponden a variables categóricas.\n",
    "\n",
    "Continuando con características generales del dataframe, observamos algunas cantidades estadísticas de cada columna"
   ]
  },
  {
   "cell_type": "code",
   "execution_count": 7,
   "metadata": {
    "colab": {
     "base_uri": "https://localhost:8080/",
     "height": 300
    },
    "id": "16ZchHSS2m_6",
    "outputId": "8fce9918-2c21-497a-dc3d-bd4ea92ce5ad"
   },
   "outputs": [
    {
     "data": {
      "text/html": [
       "<div>\n",
       "<style scoped>\n",
       "    .dataframe tbody tr th:only-of-type {\n",
       "        vertical-align: middle;\n",
       "    }\n",
       "\n",
       "    .dataframe tbody tr th {\n",
       "        vertical-align: top;\n",
       "    }\n",
       "\n",
       "    .dataframe thead th {\n",
       "        text-align: right;\n",
       "    }\n",
       "</style>\n",
       "<table border=\"1\" class=\"dataframe\">\n",
       "  <thead>\n",
       "    <tr style=\"text-align: right;\">\n",
       "      <th></th>\n",
       "      <th>Temperature (K)</th>\n",
       "      <th>Luminosity(L/Lo)</th>\n",
       "      <th>Radius(R/Ro)</th>\n",
       "      <th>Absolute magnitude(Mv)</th>\n",
       "      <th>Star type</th>\n",
       "    </tr>\n",
       "  </thead>\n",
       "  <tbody>\n",
       "    <tr>\n",
       "      <th>count</th>\n",
       "      <td>240.000000</td>\n",
       "      <td>240.000000</td>\n",
       "      <td>240.000000</td>\n",
       "      <td>240.000000</td>\n",
       "      <td>240.000000</td>\n",
       "    </tr>\n",
       "    <tr>\n",
       "      <th>mean</th>\n",
       "      <td>10497.462500</td>\n",
       "      <td>107188.361635</td>\n",
       "      <td>237.157781</td>\n",
       "      <td>4.382396</td>\n",
       "      <td>2.500000</td>\n",
       "    </tr>\n",
       "    <tr>\n",
       "      <th>std</th>\n",
       "      <td>9552.425037</td>\n",
       "      <td>179432.244940</td>\n",
       "      <td>517.155763</td>\n",
       "      <td>10.532512</td>\n",
       "      <td>1.711394</td>\n",
       "    </tr>\n",
       "    <tr>\n",
       "      <th>min</th>\n",
       "      <td>1939.000000</td>\n",
       "      <td>0.000080</td>\n",
       "      <td>0.008400</td>\n",
       "      <td>-11.920000</td>\n",
       "      <td>0.000000</td>\n",
       "    </tr>\n",
       "    <tr>\n",
       "      <th>25%</th>\n",
       "      <td>3344.250000</td>\n",
       "      <td>0.000865</td>\n",
       "      <td>0.102750</td>\n",
       "      <td>-6.232500</td>\n",
       "      <td>1.000000</td>\n",
       "    </tr>\n",
       "    <tr>\n",
       "      <th>50%</th>\n",
       "      <td>5776.000000</td>\n",
       "      <td>0.070500</td>\n",
       "      <td>0.762500</td>\n",
       "      <td>8.313000</td>\n",
       "      <td>2.500000</td>\n",
       "    </tr>\n",
       "    <tr>\n",
       "      <th>75%</th>\n",
       "      <td>15055.500000</td>\n",
       "      <td>198050.000000</td>\n",
       "      <td>42.750000</td>\n",
       "      <td>13.697500</td>\n",
       "      <td>4.000000</td>\n",
       "    </tr>\n",
       "    <tr>\n",
       "      <th>max</th>\n",
       "      <td>40000.000000</td>\n",
       "      <td>849420.000000</td>\n",
       "      <td>1948.500000</td>\n",
       "      <td>20.060000</td>\n",
       "      <td>5.000000</td>\n",
       "    </tr>\n",
       "  </tbody>\n",
       "</table>\n",
       "</div>"
      ],
      "text/plain": [
       "       Temperature (K)  Luminosity(L/Lo)  Radius(R/Ro)  \\\n",
       "count       240.000000        240.000000    240.000000   \n",
       "mean      10497.462500     107188.361635    237.157781   \n",
       "std        9552.425037     179432.244940    517.155763   \n",
       "min        1939.000000          0.000080      0.008400   \n",
       "25%        3344.250000          0.000865      0.102750   \n",
       "50%        5776.000000          0.070500      0.762500   \n",
       "75%       15055.500000     198050.000000     42.750000   \n",
       "max       40000.000000     849420.000000   1948.500000   \n",
       "\n",
       "       Absolute magnitude(Mv)   Star type  \n",
       "count              240.000000  240.000000  \n",
       "mean                 4.382396    2.500000  \n",
       "std                 10.532512    1.711394  \n",
       "min                -11.920000    0.000000  \n",
       "25%                 -6.232500    1.000000  \n",
       "50%                  8.313000    2.500000  \n",
       "75%                 13.697500    4.000000  \n",
       "max                 20.060000    5.000000  "
      ]
     },
     "execution_count": 7,
     "metadata": {},
     "output_type": "execute_result"
    }
   ],
   "source": [
    "df_stars.describe()"
   ]
  },
  {
   "cell_type": "markdown",
   "metadata": {},
   "source": [
    "Así mismo, una herramienta útil para descubrir posibles relaciones entre las variables es haciendo un mapa de calor de las correlaciones entre cada columna como se ve en la siguiente figura"
   ]
  },
  {
   "cell_type": "code",
   "execution_count": 8,
   "metadata": {
    "colab": {
     "base_uri": "https://localhost:8080/",
     "height": 625
    },
    "id": "rKyOa5rlfFlP",
    "outputId": "2155e689-b6c5-4b19-dfec-79043a496cf6"
   },
   "outputs": [
    {
     "name": "stderr",
     "output_type": "stream",
     "text": [
      "<ipython-input-8-21452120edcd>:2: FutureWarning: The default value of numeric_only in DataFrame.corr is deprecated. In a future version, it will default to False. Select only valid columns or specify the value of numeric_only to silence this warning.\n",
      "  cor = sns.heatmap(df_stars.corr(), xticklabels=df_stars.corr().columns, yticklabels=df_stars.corr().columns,annot = True, ax = ax)\n"
     ]
    },
    {
     "data": {
      "image/png": "[encoded data removed]",
      "text/plain": [
       "<Figure size 630x540 with 2 Axes>"
      ]
     },
     "metadata": {
      "needs_background": "light"
     },
     "output_type": "display_data"
    }
   ],
   "source": [
    "fig, ax = plt.subplots(figsize = (7, 6), dpi = 90)\n",
    "cor = sns.heatmap(df_stars.corr(), xticklabels=df_stars.corr().columns, yticklabels=df_stars.corr().columns,annot = True, ax = ax)\n",
    "cor.set_title('Correlation');\n",
    "#plt.savefig('Images/HeatMapCorrelation.png', bbox_inches='tight')\n",
    "plt.show();\n",
    "plt.close();"
   ]
  },
  {
   "cell_type": "markdown",
   "metadata": {},
   "source": [
    "Una alta correlación negativa se observa entre las cantidades de la magnitud absoluta y el tipo de estrella. Así mismo, hay otros 4 pares de variables con una correlación absoluta mayor a 0.6, que también deben considerarse.\n",
    "\n",
    "Por otro lado, observar la distribución de los datos respecto a la variable objetivo de los futuros modelos es importante, para lo cual se realiza la gráfica siguiente"
   ]
  },
  {
   "cell_type": "code",
   "execution_count": 9,
   "metadata": {
    "colab": {
     "base_uri": "https://localhost:8080/",
     "height": 537
    },
    "id": "MgjJ0_AsgHSI",
    "outputId": "b977dea4-a6d6-44a1-a424-5d47b326b3ea"
   },
   "outputs": [
    {
     "name": "stderr",
     "output_type": "stream",
     "text": [
      "C:\\Users\\hurom\\anaconda3\\lib\\site-packages\\seaborn\\_decorators.py:36: FutureWarning: Pass the following variable as a keyword arg: x. From version 0.12, the only valid positional argument will be `data`, and passing other arguments without an explicit keyword will result in an error or misinterpretation.\n",
      "  warnings.warn(\n"
     ]
    },
    {
     "data": {
      "image/png": "[encoded data removed]",
      "text/plain": [
       "<Figure size 630x540 with 1 Axes>"
      ]
     },
     "metadata": {
      "needs_background": "light"
     },
     "output_type": "display_data"
    }
   ],
   "source": [
    "fig, ax = plt.subplots(figsize = (7, 6), dpi = 90)\n",
    "sns.countplot(df_stars['Star type'], palette = \"viridis\", ax = ax);"
   ]
  },
  {
   "cell_type": "markdown",
   "metadata": {},
   "source": [
    "Dejando ver una distribución aparentemente perfecta de esta variable. Ahora, se analizarán las variables tipo 'object' encontradas más atrás, para lo cual se inicia con su verificación como variables categóricas"
   ]
  },
  {
   "cell_type": "code",
   "execution_count": 10,
   "metadata": {
    "colab": {
     "base_uri": "https://localhost:8080/"
    },
    "id": "YS67HmgxUQoL",
    "outputId": "51051651-6f81-4acf-dcd9-9648737ab879"
   },
   "outputs": [
    {
     "data": {
      "text/plain": [
       "array(['M', 'B', 'A', 'F', 'O', 'K', 'G'], dtype=object)"
      ]
     },
     "execution_count": 10,
     "metadata": {},
     "output_type": "execute_result"
    }
   ],
   "source": [
    "df_stars['Spectral Class'].unique()"
   ]
  },
  {
   "cell_type": "code",
   "execution_count": 11,
   "metadata": {
    "colab": {
     "base_uri": "https://localhost:8080/"
    },
    "id": "F2WZ4wQSLkv9",
    "outputId": "b7d4655f-a1ac-4d1b-8c04-e44319bf3fbf"
   },
   "outputs": [
    {
     "data": {
      "text/plain": [
       "array(['Red', 'Blue White', 'White', 'Yellowish White', 'Blue white',\n",
       "       'Pale yellow orange', 'Blue', 'Blue-white', 'Whitish',\n",
       "       'yellow-white', 'Orange', 'White-Yellow', 'white', 'Blue ',\n",
       "       'yellowish', 'Yellowish', 'Orange-Red', 'Blue white ',\n",
       "       'Blue-White'], dtype=object)"
      ]
     },
     "execution_count": 11,
     "metadata": {},
     "output_type": "execute_result"
    }
   ],
   "source": [
    "df_stars['Star color'].unique()"
   ]
  },
  {
   "cell_type": "markdown",
   "metadata": {},
   "source": [
    "La columna 'Spectral Class' está debidamente organizada, sin embargo, 'Star Color' posee varios colores iguales escritos de maneras distintas, cosa que debe corregirse. La siguiente es una figura que muestra la problemática que tiene dicha columna"
   ]
  },
  {
   "cell_type": "code",
   "execution_count": 16,
   "metadata": {
    "colab": {
     "base_uri": "https://localhost:8080/",
     "height": 516
    },
    "id": "goh690MJegqP",
    "outputId": "f09db34a-58cd-4e81-923d-bc2dc613b7ca"
   },
   "outputs": [
    {
     "data": {
      "image/png": "[encoded data removed]",
      "text/plain": [
       "<Figure size 936x432 with 1 Axes>"
      ]
     },
     "metadata": {
      "needs_background": "light"
     },
     "output_type": "display_data"
    }
   ],
   "source": [
    "plt.figure(figsize = (13, 6))\n",
    "color = pd.DataFrame(df_stars['Star color'].value_counts().sort_values(ascending=False))\n",
    "ax = sns.barplot(x = color.index, y = 'Star color' , data = color, palette='magma')\n",
    "plt.title(\"Star Colors\", fontsize = 18)\n",
    "plt.ylabel('Star color', fontsize = 15)\n",
    "plt.xticks(fontsize = 14)\n",
    "plt.yticks(fontsize = 14)\n",
    "ax = ax.set_xticklabels(ax.get_xticklabels(), rotation = 90)"
   ]
  },
  {
   "cell_type": "markdown",
   "metadata": {},
   "source": [
    "Para solucionar lo anterior, definimos una función que cambie todos los colores 'repetidos' por uno solo. Además, realizamos one hot encoding para estas variables categóricas, se realiza la partición de los datos en entrenamiento y prueba y se hace un debido reescalamiento de los mismos"
   ]
  },
  {
   "cell_type": "code",
   "execution_count": 13,
   "metadata": {
    "id": "tYf74ctvTezL"
   },
   "outputs": [],
   "source": [
    "from sklearn.model_selection import train_test_split\n",
    "from sklearn.preprocessing import StandardScaler\n",
    "\n",
    "def preprocess(df):\n",
    "    df = df.copy()\n",
    "    \n",
    "    # Arreglo de colores\n",
    "    color_mapping = {\n",
    "        'Blue ': 'Blue',\n",
    "        'Blue white': 'Blue White',\n",
    "        'Blue-white': 'Blue White',\n",
    "        'Blue white ': 'Blue White',\n",
    "        'Blue-White': 'Blue White',\n",
    "        'white': 'White',\n",
    "        'yellow-white': 'Yellowish White',\n",
    "        'White-Yellow': 'Yellowish White',\n",
    "        'yellowish': 'Yellowish'\n",
    "    }\n",
    "    df['Star color'] = df['Star color'].replace(color_mapping)\n",
    "    \n",
    "    # One-hot encoding\n",
    "    df = pd.concat([df, pd.get_dummies(df['Star color'], prefix='Color')], axis=1)\n",
    "    df = pd.concat([df, pd.get_dummies(df['Spectral Class'], prefix='Class')], axis=1)\n",
    "    df = df.drop(['Star color', 'Spectral Class'], axis=1)\n",
    "    \n",
    "    # Separación de variables\n",
    "    X = df.drop('Star type', axis=1)\n",
    "    y = df['Star type']\n",
    "    \n",
    "    # Train-test split\n",
    "    X_train, X_test, y_train, y_test = train_test_split(X, y, train_size=0.7, shuffle=True, random_state=0)\n",
    "\n",
    "    # Scale X\n",
    "    scaler = StandardScaler()\n",
    "    X_train = pd.DataFrame(scaler.fit_transform(X_train), index=X_train.index, columns=X_train.columns)\n",
    "    X_test = pd.DataFrame(scaler.transform(X_test), index=X_test.index, columns=X_test.columns)\n",
    "    \n",
    "    return X_train, X_test, y_train, y_test"
   ]
  },
  {
   "cell_type": "markdown",
   "metadata": {},
   "source": [
    "Los nuevos datos se guardan en variables correspondientes de entrenamiento y prueba para las variables y etiquetas del modelo. A continuación se muestran algunas de dichas variables y la variable objetivo"
   ]
  },
  {
   "cell_type": "code",
   "execution_count": 14,
   "metadata": {
    "colab": {
     "base_uri": "https://localhost:8080/",
     "height": 334
    },
    "id": "bQ1GGcX_ZFhg",
    "outputId": "999d6ea1-e94e-4028-be09-05db6f437454"
   },
   "outputs": [
    {
     "data": {
      "text/html": [
       "<div>\n",
       "<style scoped>\n",
       "    .dataframe tbody tr th:only-of-type {\n",
       "        vertical-align: middle;\n",
       "    }\n",
       "\n",
       "    .dataframe tbody tr th {\n",
       "        vertical-align: top;\n",
       "    }\n",
       "\n",
       "    .dataframe thead th {\n",
       "        text-align: right;\n",
       "    }\n",
       "</style>\n",
       "<table border=\"1\" class=\"dataframe\">\n",
       "  <thead>\n",
       "    <tr style=\"text-align: right;\">\n",
       "      <th></th>\n",
       "      <th>Temperature (K)</th>\n",
       "      <th>Luminosity(L/Lo)</th>\n",
       "      <th>Radius(R/Ro)</th>\n",
       "      <th>Absolute magnitude(Mv)</th>\n",
       "      <th>Color_Blue</th>\n",
       "      <th>Color_Blue White</th>\n",
       "      <th>Color_Orange</th>\n",
       "      <th>Color_Orange-Red</th>\n",
       "      <th>Color_Pale yellow orange</th>\n",
       "      <th>Color_Red</th>\n",
       "      <th>...</th>\n",
       "      <th>Color_Whitish</th>\n",
       "      <th>Color_Yellowish</th>\n",
       "      <th>Color_Yellowish White</th>\n",
       "      <th>Class_A</th>\n",
       "      <th>Class_B</th>\n",
       "      <th>Class_F</th>\n",
       "      <th>Class_G</th>\n",
       "      <th>Class_K</th>\n",
       "      <th>Class_M</th>\n",
       "      <th>Class_O</th>\n",
       "    </tr>\n",
       "  </thead>\n",
       "  <tbody>\n",
       "    <tr>\n",
       "      <th>61</th>\n",
       "      <td>-0.710590</td>\n",
       "      <td>-0.607428</td>\n",
       "      <td>-0.458255</td>\n",
       "      <td>1.153147</td>\n",
       "      <td>-0.549841</td>\n",
       "      <td>-0.418121</td>\n",
       "      <td>-0.109764</td>\n",
       "      <td>0.0</td>\n",
       "      <td>-0.077382</td>\n",
       "      <td>1.036375</td>\n",
       "      <td>...</td>\n",
       "      <td>-0.077382</td>\n",
       "      <td>-0.109764</td>\n",
       "      <td>-0.223607</td>\n",
       "      <td>-0.324443</td>\n",
       "      <td>-0.456764</td>\n",
       "      <td>-0.27735</td>\n",
       "      <td>0.0</td>\n",
       "      <td>-0.13484</td>\n",
       "      <td>1.024100</td>\n",
       "      <td>-0.4279</td>\n",
       "    </tr>\n",
       "    <tr>\n",
       "      <th>210</th>\n",
       "      <td>1.368814</td>\n",
       "      <td>-0.532507</td>\n",
       "      <td>-0.446344</td>\n",
       "      <td>-0.799426</td>\n",
       "      <td>-0.549841</td>\n",
       "      <td>2.391652</td>\n",
       "      <td>-0.109764</td>\n",
       "      <td>0.0</td>\n",
       "      <td>-0.077382</td>\n",
       "      <td>-0.964901</td>\n",
       "      <td>...</td>\n",
       "      <td>-0.077382</td>\n",
       "      <td>-0.109764</td>\n",
       "      <td>-0.223607</td>\n",
       "      <td>-0.324443</td>\n",
       "      <td>2.189316</td>\n",
       "      <td>-0.27735</td>\n",
       "      <td>0.0</td>\n",
       "      <td>-0.13484</td>\n",
       "      <td>-0.976467</td>\n",
       "      <td>-0.4279</td>\n",
       "    </tr>\n",
       "    <tr>\n",
       "      <th>52</th>\n",
       "      <td>-0.666403</td>\n",
       "      <td>1.029405</td>\n",
       "      <td>1.824986</td>\n",
       "      <td>-1.323333</td>\n",
       "      <td>-0.549841</td>\n",
       "      <td>-0.418121</td>\n",
       "      <td>-0.109764</td>\n",
       "      <td>0.0</td>\n",
       "      <td>-0.077382</td>\n",
       "      <td>1.036375</td>\n",
       "      <td>...</td>\n",
       "      <td>-0.077382</td>\n",
       "      <td>-0.109764</td>\n",
       "      <td>-0.223607</td>\n",
       "      <td>-0.324443</td>\n",
       "      <td>-0.456764</td>\n",
       "      <td>-0.27735</td>\n",
       "      <td>0.0</td>\n",
       "      <td>-0.13484</td>\n",
       "      <td>1.024100</td>\n",
       "      <td>-0.4279</td>\n",
       "    </tr>\n",
       "    <tr>\n",
       "      <th>66</th>\n",
       "      <td>-0.764119</td>\n",
       "      <td>-0.607428</td>\n",
       "      <td>-0.458442</td>\n",
       "      <td>1.285781</td>\n",
       "      <td>-0.549841</td>\n",
       "      <td>-0.418121</td>\n",
       "      <td>-0.109764</td>\n",
       "      <td>0.0</td>\n",
       "      <td>-0.077382</td>\n",
       "      <td>1.036375</td>\n",
       "      <td>...</td>\n",
       "      <td>-0.077382</td>\n",
       "      <td>-0.109764</td>\n",
       "      <td>-0.223607</td>\n",
       "      <td>-0.324443</td>\n",
       "      <td>-0.456764</td>\n",
       "      <td>-0.27735</td>\n",
       "      <td>0.0</td>\n",
       "      <td>-0.13484</td>\n",
       "      <td>1.024100</td>\n",
       "      <td>-0.4279</td>\n",
       "    </tr>\n",
       "    <tr>\n",
       "      <th>26</th>\n",
       "      <td>-0.145838</td>\n",
       "      <td>-0.607428</td>\n",
       "      <td>-0.458603</td>\n",
       "      <td>0.893562</td>\n",
       "      <td>-0.549841</td>\n",
       "      <td>2.391652</td>\n",
       "      <td>-0.109764</td>\n",
       "      <td>0.0</td>\n",
       "      <td>-0.077382</td>\n",
       "      <td>-0.964901</td>\n",
       "      <td>...</td>\n",
       "      <td>-0.077382</td>\n",
       "      <td>-0.109764</td>\n",
       "      <td>-0.223607</td>\n",
       "      <td>3.082207</td>\n",
       "      <td>-0.456764</td>\n",
       "      <td>-0.27735</td>\n",
       "      <td>0.0</td>\n",
       "      <td>-0.13484</td>\n",
       "      <td>-0.976467</td>\n",
       "      <td>-0.4279</td>\n",
       "    </tr>\n",
       "  </tbody>\n",
       "</table>\n",
       "<p>5 rows × 21 columns</p>\n",
       "</div>"
      ],
      "text/plain": [
       "     Temperature (K)  Luminosity(L/Lo)  Radius(R/Ro)  Absolute magnitude(Mv)  \\\n",
       "61         -0.710590         -0.607428     -0.458255                1.153147   \n",
       "210         1.368814         -0.532507     -0.446344               -0.799426   \n",
       "52         -0.666403          1.029405      1.824986               -1.323333   \n",
       "66         -0.764119         -0.607428     -0.458442                1.285781   \n",
       "26         -0.145838         -0.607428     -0.458603                0.893562   \n",
       "\n",
       "     Color_Blue  Color_Blue White  Color_Orange  Color_Orange-Red  \\\n",
       "61    -0.549841         -0.418121     -0.109764               0.0   \n",
       "210   -0.549841          2.391652     -0.109764               0.0   \n",
       "52    -0.549841         -0.418121     -0.109764               0.0   \n",
       "66    -0.549841         -0.418121     -0.109764               0.0   \n",
       "26    -0.549841          2.391652     -0.109764               0.0   \n",
       "\n",
       "     Color_Pale yellow orange  Color_Red  ...  Color_Whitish  Color_Yellowish  \\\n",
       "61                  -0.077382   1.036375  ...      -0.077382        -0.109764   \n",
       "210                 -0.077382  -0.964901  ...      -0.077382        -0.109764   \n",
       "52                  -0.077382   1.036375  ...      -0.077382        -0.109764   \n",
       "66                  -0.077382   1.036375  ...      -0.077382        -0.109764   \n",
       "26                  -0.077382  -0.964901  ...      -0.077382        -0.109764   \n",
       "\n",
       "     Color_Yellowish White   Class_A   Class_B  Class_F  Class_G  Class_K  \\\n",
       "61               -0.223607 -0.324443 -0.456764 -0.27735      0.0 -0.13484   \n",
       "210              -0.223607 -0.324443  2.189316 -0.27735      0.0 -0.13484   \n",
       "52               -0.223607 -0.324443 -0.456764 -0.27735      0.0 -0.13484   \n",
       "66               -0.223607 -0.324443 -0.456764 -0.27735      0.0 -0.13484   \n",
       "26               -0.223607  3.082207 -0.456764 -0.27735      0.0 -0.13484   \n",
       "\n",
       "      Class_M  Class_O  \n",
       "61   1.024100  -0.4279  \n",
       "210 -0.976467  -0.4279  \n",
       "52   1.024100  -0.4279  \n",
       "66   1.024100  -0.4279  \n",
       "26  -0.976467  -0.4279  \n",
       "\n",
       "[5 rows x 21 columns]"
      ]
     },
     "execution_count": 14,
     "metadata": {},
     "output_type": "execute_result"
    }
   ],
   "source": [
    "X_train, X_test, y_train, y_test = preprocess(df_stars)\n",
    "X_train.head(5)"
   ]
  },
  {
   "cell_type": "code",
   "execution_count": 15,
   "metadata": {
    "colab": {
     "base_uri": "https://localhost:8080/"
    },
    "id": "6d-IBscLZnsz",
    "outputId": "c6cbf205-9aac-4270-ad7c-3f55c6bc8a39"
   },
   "outputs": [
    {
     "data": {
      "text/plain": [
       "61     0\n",
       "210    3\n",
       "52     5\n",
       "66     0\n",
       "26     2\n",
       "Name: Star type, dtype: int64"
      ]
     },
     "execution_count": 15,
     "metadata": {},
     "output_type": "execute_result"
    }
   ],
   "source": [
    "y_train.head(5)"
   ]
  }
 ],
 "metadata": {
  "colab": {
   "provenance": []
  },
  "kernelspec": {
   "display_name": "Python 3",
   "language": "python",
   "name": "python3"
  },
  "language_info": {
   "codemirror_mode": {
    "name": "ipython",
    "version": 3
   },
   "file_extension": ".py",
   "mimetype": "text/x-python",
   "name": "python",
   "nbconvert_exporter": "python",
   "pygments_lexer": "ipython3",
   "version": "3.8.8"
  }
 },
 "nbformat": 4,
 "nbformat_minor": 1
}
